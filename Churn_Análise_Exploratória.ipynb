{
  "nbformat": 4,
  "nbformat_minor": 0,
  "metadata": {
    "colab": {
      "name": "Churn_Análise_Exploratória.ipynb",
      "provenance": [],
      "collapsed_sections": [],
      "mount_file_id": "1LPIazy5jMG0PVl1M_FGw5pAI238ToIXK",
      "authorship_tag": "ABX9TyPNGSBcbLxrCzzTSI/hjWdh",
      "include_colab_link": true
    },
    "kernelspec": {
      "name": "python3",
      "display_name": "Python 3"
    },
    "language_info": {
      "name": "python"
    }
  },
  "cells": [
    {
      "cell_type": "markdown",
      "metadata": {
        "id": "view-in-github",
        "colab_type": "text"
      },
      "source": [
        "<a href=\"https://colab.research.google.com/github/daniellorieri/Data_Science_E_Analise_de_Dados/blob/main/Churn_An%C3%A1lise_Explorat%C3%B3ria.ipynb\" target=\"_parent\"><img src=\"https://colab.research.google.com/assets/colab-badge.svg\" alt=\"Open In Colab\"/></a>"
      ]
    },
    {
      "cell_type": "markdown",
      "metadata": {
        "id": "duIe_ucAhlZb"
      },
      "source": [
        "###Objetivo:\n",
        " - Analisar a taxa de churn dos clientes em relação a algumas variáveis para extrair informações que possam auxiliar na retenção dos clientes."
      ]
    },
    {
      "cell_type": "code",
      "metadata": {
        "id": "tKOcjqP4plba"
      },
      "source": [
        "#Importando as biblliotecas\n",
        "import numpy as np\n",
        "import seaborn as sns\n",
        "import pandas as pd\n",
        "from scipy import stats\n",
        "import matplotlib.pyplot as plt\n",
        "\n",
        "\n",
        "df = pd.read_csv('/content/drive/My Drive/dataset/Churn_Modelling.csv')"
      ],
      "execution_count": 2,
      "outputs": []
    },
    {
      "cell_type": "code",
      "metadata": {
        "id": "P2DbxYCwpqks",
        "colab": {
          "base_uri": "https://localhost:8080/",
          "height": 224
        },
        "outputId": "660984ab-faa0-49cb-9519-4ad137ffcbd7"
      },
      "source": [
        "df.head()"
      ],
      "execution_count": 3,
      "outputs": [
        {
          "output_type": "execute_result",
          "data": {
            "text/html": [
              "<div>\n",
              "<style scoped>\n",
              "    .dataframe tbody tr th:only-of-type {\n",
              "        vertical-align: middle;\n",
              "    }\n",
              "\n",
              "    .dataframe tbody tr th {\n",
              "        vertical-align: top;\n",
              "    }\n",
              "\n",
              "    .dataframe thead th {\n",
              "        text-align: right;\n",
              "    }\n",
              "</style>\n",
              "<table border=\"1\" class=\"dataframe\">\n",
              "  <thead>\n",
              "    <tr style=\"text-align: right;\">\n",
              "      <th></th>\n",
              "      <th>RowNumber</th>\n",
              "      <th>CustomerId</th>\n",
              "      <th>Surname</th>\n",
              "      <th>CreditScore</th>\n",
              "      <th>Geography</th>\n",
              "      <th>Gender</th>\n",
              "      <th>Age</th>\n",
              "      <th>Tenure</th>\n",
              "      <th>Balance</th>\n",
              "      <th>NumOfProducts</th>\n",
              "      <th>HasCrCard</th>\n",
              "      <th>IsActiveMember</th>\n",
              "      <th>EstimatedSalary</th>\n",
              "      <th>Exited</th>\n",
              "    </tr>\n",
              "  </thead>\n",
              "  <tbody>\n",
              "    <tr>\n",
              "      <th>0</th>\n",
              "      <td>1</td>\n",
              "      <td>15634602</td>\n",
              "      <td>Hargrave</td>\n",
              "      <td>619</td>\n",
              "      <td>France</td>\n",
              "      <td>Female</td>\n",
              "      <td>42</td>\n",
              "      <td>2</td>\n",
              "      <td>0.00</td>\n",
              "      <td>1</td>\n",
              "      <td>1</td>\n",
              "      <td>1</td>\n",
              "      <td>101348.88</td>\n",
              "      <td>1</td>\n",
              "    </tr>\n",
              "    <tr>\n",
              "      <th>1</th>\n",
              "      <td>2</td>\n",
              "      <td>15647311</td>\n",
              "      <td>Hill</td>\n",
              "      <td>608</td>\n",
              "      <td>Spain</td>\n",
              "      <td>Female</td>\n",
              "      <td>41</td>\n",
              "      <td>1</td>\n",
              "      <td>83807.86</td>\n",
              "      <td>1</td>\n",
              "      <td>0</td>\n",
              "      <td>1</td>\n",
              "      <td>112542.58</td>\n",
              "      <td>0</td>\n",
              "    </tr>\n",
              "    <tr>\n",
              "      <th>2</th>\n",
              "      <td>3</td>\n",
              "      <td>15619304</td>\n",
              "      <td>Onio</td>\n",
              "      <td>502</td>\n",
              "      <td>France</td>\n",
              "      <td>Female</td>\n",
              "      <td>42</td>\n",
              "      <td>8</td>\n",
              "      <td>159660.80</td>\n",
              "      <td>3</td>\n",
              "      <td>1</td>\n",
              "      <td>0</td>\n",
              "      <td>113931.57</td>\n",
              "      <td>1</td>\n",
              "    </tr>\n",
              "    <tr>\n",
              "      <th>3</th>\n",
              "      <td>4</td>\n",
              "      <td>15701354</td>\n",
              "      <td>Boni</td>\n",
              "      <td>699</td>\n",
              "      <td>France</td>\n",
              "      <td>Female</td>\n",
              "      <td>39</td>\n",
              "      <td>1</td>\n",
              "      <td>0.00</td>\n",
              "      <td>2</td>\n",
              "      <td>0</td>\n",
              "      <td>0</td>\n",
              "      <td>93826.63</td>\n",
              "      <td>0</td>\n",
              "    </tr>\n",
              "    <tr>\n",
              "      <th>4</th>\n",
              "      <td>5</td>\n",
              "      <td>15737888</td>\n",
              "      <td>Mitchell</td>\n",
              "      <td>850</td>\n",
              "      <td>Spain</td>\n",
              "      <td>Female</td>\n",
              "      <td>43</td>\n",
              "      <td>2</td>\n",
              "      <td>125510.82</td>\n",
              "      <td>1</td>\n",
              "      <td>1</td>\n",
              "      <td>1</td>\n",
              "      <td>79084.10</td>\n",
              "      <td>0</td>\n",
              "    </tr>\n",
              "  </tbody>\n",
              "</table>\n",
              "</div>"
            ],
            "text/plain": [
              "   RowNumber  CustomerId   Surname  ...  IsActiveMember EstimatedSalary Exited\n",
              "0          1    15634602  Hargrave  ...               1       101348.88      1\n",
              "1          2    15647311      Hill  ...               1       112542.58      0\n",
              "2          3    15619304      Onio  ...               0       113931.57      1\n",
              "3          4    15701354      Boni  ...               0        93826.63      0\n",
              "4          5    15737888  Mitchell  ...               1        79084.10      0\n",
              "\n",
              "[5 rows x 14 columns]"
            ]
          },
          "metadata": {},
          "execution_count": 3
        }
      ]
    },
    {
      "cell_type": "markdown",
      "metadata": {
        "id": "xG2rB7P0SBWP"
      },
      "source": [
        "###Váriáveis existentes no conjunto de dados\n",
        "- CustomerId: identificação do cliente;\n",
        "- Surname: sobrenome do cliente;\n",
        "- CreditScore: pontuação de credito, 0 alto risco de - inadimplência e 1000 clientes com baixo risco de - - - - inadimplência;\n",
        "- Geography: país que o serviço é oferecido;\n",
        "- Gender: sexo do cliente;\n",
        "- Age: idade do cleinte;\n",
        "- Tenure: um indicativo de estabilidade no emprego, em que -0 significa pouca estabilidade e 10 muita estabilidade.\n",
        "- Balance: saldo da conta corrente;\n",
        "- NumOfProducts: número de produtos bancários adquiridos;\n",
        "- HasCrCard: se tem cartão de credito ou não, (Sim = 1 e -Não = 0);\n",
        "- IsActiveMember: se é um cliente com conta ativa, (Ativo -= 1) ;\n",
        "- EstimatedSalary: salário estimado;\n",
        "- Exited: cliente deixou de ser cliente do banco ou não --(Churn = 1)."
      ]
    },
    {
      "cell_type": "markdown",
      "metadata": {
        "id": "opak764XS3r-"
      },
      "source": [
        "##Identificando as varáveis"
      ]
    },
    {
      "cell_type": "code",
      "metadata": {
        "colab": {
          "base_uri": "https://localhost:8080/"
        },
        "id": "tyPXO_KgR4mg",
        "outputId": "44acdeb3-65d0-4558-f594-feb623f94048"
      },
      "source": [
        "df.info()"
      ],
      "execution_count": 4,
      "outputs": [
        {
          "output_type": "stream",
          "name": "stdout",
          "text": [
            "<class 'pandas.core.frame.DataFrame'>\n",
            "RangeIndex: 10000 entries, 0 to 9999\n",
            "Data columns (total 14 columns):\n",
            " #   Column           Non-Null Count  Dtype  \n",
            "---  ------           --------------  -----  \n",
            " 0   RowNumber        10000 non-null  int64  \n",
            " 1   CustomerId       10000 non-null  int64  \n",
            " 2   Surname          10000 non-null  object \n",
            " 3   CreditScore      10000 non-null  int64  \n",
            " 4   Geography        10000 non-null  object \n",
            " 5   Gender           10000 non-null  object \n",
            " 6   Age              10000 non-null  int64  \n",
            " 7   Tenure           10000 non-null  int64  \n",
            " 8   Balance          10000 non-null  float64\n",
            " 9   NumOfProducts    10000 non-null  int64  \n",
            " 10  HasCrCard        10000 non-null  int64  \n",
            " 11  IsActiveMember   10000 non-null  int64  \n",
            " 12  EstimatedSalary  10000 non-null  float64\n",
            " 13  Exited           10000 non-null  int64  \n",
            "dtypes: float64(2), int64(9), object(3)\n",
            "memory usage: 1.1+ MB\n"
          ]
        }
      ]
    },
    {
      "cell_type": "markdown",
      "metadata": {
        "id": "GHg1EHKDTfke"
      },
      "source": [
        "####Os dados se dividem em:\n",
        " - Varáveis Categóricas : país, cartão de crédito, clientes ativos e saída do cliente\n",
        " - Variáveis numéricas: escore do cliente, idade, tenure, balance, número de produtos, salário estimado"
      ]
    },
    {
      "cell_type": "code",
      "metadata": {
        "colab": {
          "base_uri": "https://localhost:8080/",
          "height": 350
        },
        "id": "SjTUD5FwTIvO",
        "outputId": "85d2ef71-ecf1-4e61-8e8a-a569410ec510"
      },
      "source": [
        "\n",
        "sns.countplot(df['Exited'])"
      ],
      "execution_count": 5,
      "outputs": [
        {
          "output_type": "stream",
          "name": "stderr",
          "text": [
            "/usr/local/lib/python3.7/dist-packages/seaborn/_decorators.py:43: FutureWarning: Pass the following variable as a keyword arg: x. From version 0.12, the only valid positional argument will be `data`, and passing other arguments without an explicit keyword will result in an error or misinterpretation.\n",
            "  FutureWarning\n"
          ]
        },
        {
          "output_type": "execute_result",
          "data": {
            "text/plain": [
              "<matplotlib.axes._subplots.AxesSubplot at 0x7f48652fb7d0>"
            ]
          },
          "metadata": {},
          "execution_count": 5
        },
        {
          "output_type": "display_data",
          "data": {
            "image/png": "[encoded data removed]",
            "text/plain": [
              "<Figure size 432x288 with 1 Axes>"
            ]
          },
          "metadata": {
            "needs_background": "light"
          }
        }
      ]
    },
    {
      "cell_type": "markdown",
      "metadata": {
        "id": "T2hz4CdKV91X"
      },
      "source": [
        "##### Visualizando a Variável Alvo: , \n",
        " - 0 =  não cancelou a conta.\n",
        " - 1 = cancelou.\n",
        "#####Nota que poucos cliente cancelaram a conta."
      ]
    },
    {
      "cell_type": "markdown",
      "metadata": {
        "id": "TNciYQf9XmQA"
      },
      "source": [
        "###Análise Exploratória"
      ]
    },
    {
      "cell_type": "code",
      "metadata": {
        "colab": {
          "base_uri": "https://localhost:8080/",
          "height": 317
        },
        "id": "U13NCwaXUV_R",
        "outputId": "2ddbc117-768a-4e96-eb80-a2e249dede2b"
      },
      "source": [
        "df.describe()"
      ],
      "execution_count": 6,
      "outputs": [
        {
          "output_type": "execute_result",
          "data": {
            "text/html": [
              "<div>\n",
              "<style scoped>\n",
              "    .dataframe tbody tr th:only-of-type {\n",
              "        vertical-align: middle;\n",
              "    }\n",
              "\n",
              "    .dataframe tbody tr th {\n",
              "        vertical-align: top;\n",
              "    }\n",
              "\n",
              "    .dataframe thead th {\n",
              "        text-align: right;\n",
              "    }\n",
              "</style>\n",
              "<table border=\"1\" class=\"dataframe\">\n",
              "  <thead>\n",
              "    <tr style=\"text-align: right;\">\n",
              "      <th></th>\n",
              "      <th>RowNumber</th>\n",
              "      <th>CustomerId</th>\n",
              "      <th>CreditScore</th>\n",
              "      <th>Age</th>\n",
              "      <th>Tenure</th>\n",
              "      <th>Balance</th>\n",
              "      <th>NumOfProducts</th>\n",
              "      <th>HasCrCard</th>\n",
              "      <th>IsActiveMember</th>\n",
              "      <th>EstimatedSalary</th>\n",
              "      <th>Exited</th>\n",
              "    </tr>\n",
              "  </thead>\n",
              "  <tbody>\n",
              "    <tr>\n",
              "      <th>count</th>\n",
              "      <td>10000.00000</td>\n",
              "      <td>1.000000e+04</td>\n",
              "      <td>10000.000000</td>\n",
              "      <td>10000.000000</td>\n",
              "      <td>10000.000000</td>\n",
              "      <td>10000.000000</td>\n",
              "      <td>10000.000000</td>\n",
              "      <td>10000.00000</td>\n",
              "      <td>10000.000000</td>\n",
              "      <td>10000.000000</td>\n",
              "      <td>10000.000000</td>\n",
              "    </tr>\n",
              "    <tr>\n",
              "      <th>mean</th>\n",
              "      <td>5000.50000</td>\n",
              "      <td>1.569094e+07</td>\n",
              "      <td>650.528800</td>\n",
              "      <td>38.921800</td>\n",
              "      <td>5.012800</td>\n",
              "      <td>76485.889288</td>\n",
              "      <td>1.530200</td>\n",
              "      <td>0.70550</td>\n",
              "      <td>0.515100</td>\n",
              "      <td>100090.239881</td>\n",
              "      <td>0.203700</td>\n",
              "    </tr>\n",
              "    <tr>\n",
              "      <th>std</th>\n",
              "      <td>2886.89568</td>\n",
              "      <td>7.193619e+04</td>\n",
              "      <td>96.653299</td>\n",
              "      <td>10.487806</td>\n",
              "      <td>2.892174</td>\n",
              "      <td>62397.405202</td>\n",
              "      <td>0.581654</td>\n",
              "      <td>0.45584</td>\n",
              "      <td>0.499797</td>\n",
              "      <td>57510.492818</td>\n",
              "      <td>0.402769</td>\n",
              "    </tr>\n",
              "    <tr>\n",
              "      <th>min</th>\n",
              "      <td>1.00000</td>\n",
              "      <td>1.556570e+07</td>\n",
              "      <td>350.000000</td>\n",
              "      <td>18.000000</td>\n",
              "      <td>0.000000</td>\n",
              "      <td>0.000000</td>\n",
              "      <td>1.000000</td>\n",
              "      <td>0.00000</td>\n",
              "      <td>0.000000</td>\n",
              "      <td>11.580000</td>\n",
              "      <td>0.000000</td>\n",
              "    </tr>\n",
              "    <tr>\n",
              "      <th>25%</th>\n",
              "      <td>2500.75000</td>\n",
              "      <td>1.562853e+07</td>\n",
              "      <td>584.000000</td>\n",
              "      <td>32.000000</td>\n",
              "      <td>3.000000</td>\n",
              "      <td>0.000000</td>\n",
              "      <td>1.000000</td>\n",
              "      <td>0.00000</td>\n",
              "      <td>0.000000</td>\n",
              "      <td>51002.110000</td>\n",
              "      <td>0.000000</td>\n",
              "    </tr>\n",
              "    <tr>\n",
              "      <th>50%</th>\n",
              "      <td>5000.50000</td>\n",
              "      <td>1.569074e+07</td>\n",
              "      <td>652.000000</td>\n",
              "      <td>37.000000</td>\n",
              "      <td>5.000000</td>\n",
              "      <td>97198.540000</td>\n",
              "      <td>1.000000</td>\n",
              "      <td>1.00000</td>\n",
              "      <td>1.000000</td>\n",
              "      <td>100193.915000</td>\n",
              "      <td>0.000000</td>\n",
              "    </tr>\n",
              "    <tr>\n",
              "      <th>75%</th>\n",
              "      <td>7500.25000</td>\n",
              "      <td>1.575323e+07</td>\n",
              "      <td>718.000000</td>\n",
              "      <td>44.000000</td>\n",
              "      <td>7.000000</td>\n",
              "      <td>127644.240000</td>\n",
              "      <td>2.000000</td>\n",
              "      <td>1.00000</td>\n",
              "      <td>1.000000</td>\n",
              "      <td>149388.247500</td>\n",
              "      <td>0.000000</td>\n",
              "    </tr>\n",
              "    <tr>\n",
              "      <th>max</th>\n",
              "      <td>10000.00000</td>\n",
              "      <td>1.581569e+07</td>\n",
              "      <td>850.000000</td>\n",
              "      <td>92.000000</td>\n",
              "      <td>10.000000</td>\n",
              "      <td>250898.090000</td>\n",
              "      <td>4.000000</td>\n",
              "      <td>1.00000</td>\n",
              "      <td>1.000000</td>\n",
              "      <td>199992.480000</td>\n",
              "      <td>1.000000</td>\n",
              "    </tr>\n",
              "  </tbody>\n",
              "</table>\n",
              "</div>"
            ],
            "text/plain": [
              "         RowNumber    CustomerId  ...  EstimatedSalary        Exited\n",
              "count  10000.00000  1.000000e+04  ...     10000.000000  10000.000000\n",
              "mean    5000.50000  1.569094e+07  ...    100090.239881      0.203700\n",
              "std     2886.89568  7.193619e+04  ...     57510.492818      0.402769\n",
              "min        1.00000  1.556570e+07  ...        11.580000      0.000000\n",
              "25%     2500.75000  1.562853e+07  ...     51002.110000      0.000000\n",
              "50%     5000.50000  1.569074e+07  ...    100193.915000      0.000000\n",
              "75%     7500.25000  1.575323e+07  ...    149388.247500      0.000000\n",
              "max    10000.00000  1.581569e+07  ...    199992.480000      1.000000\n",
              "\n",
              "[8 rows x 11 columns]"
            ]
          },
          "metadata": {},
          "execution_count": 6
        }
      ]
    },
    {
      "cell_type": "markdown",
      "metadata": {
        "id": "Y3zvqjKMcOGA"
      },
      "source": [
        "- Os cliente têm em média 39 anos, com idade mínima de 18 anos e idade máxima de 92 anos. 50% a 75% da base de clientes desta agência tem entre 37 a 44anos.\n",
        "- 70% dos clientes possuem cartão de crédito.\n",
        "- Os cliente tem em média de 1,5 dos produtos bancarios.\n",
        "- Os clientes tem em média U$76.500 mil dolares em conta.\n",
        "- 75% do cleintes tem um Score de crédito de 718.000, mostra que a maioria tem um bom score de crédito.\n",
        "- Nota-se que quanto mais velho maior estabilidade no emprego o cliente tem.\n"
      ]
    },
    {
      "cell_type": "code",
      "metadata": {
        "colab": {
          "base_uri": "https://localhost:8080/",
          "height": 350
        },
        "id": "aOfwYqXEah5w",
        "outputId": "e8bb0e00-36d9-4a4a-e7a3-6809d2c7c9cc"
      },
      "source": [
        "sns.distplot(df['Age'],hist = True, kde = True)"
      ],
      "execution_count": 7,
      "outputs": [
        {
          "output_type": "stream",
          "name": "stderr",
          "text": [
            "/usr/local/lib/python3.7/dist-packages/seaborn/distributions.py:2619: FutureWarning: `distplot` is a deprecated function and will be removed in a future version. Please adapt your code to use either `displot` (a figure-level function with similar flexibility) or `histplot` (an axes-level function for histograms).\n",
            "  warnings.warn(msg, FutureWarning)\n"
          ]
        },
        {
          "output_type": "execute_result",
          "data": {
            "text/plain": [
              "<matplotlib.axes._subplots.AxesSubplot at 0x7f4864d5f290>"
            ]
          },
          "metadata": {},
          "execution_count": 7
        },
        {
          "output_type": "display_data",
          "data": {
            "image/png": "[encoded data removed]",
            "text/plain": [
              "<Figure size 432x288 with 1 Axes>"
            ]
          },
          "metadata": {
            "needs_background": "light"
          }
        }
      ]
    },
    {
      "cell_type": "markdown",
      "metadata": {
        "id": "8uDqc1Nwf-Z0"
      },
      "source": [
        "- Variável idade mostra uma distribuição gama, valores assimétricos mais concentrados à esquerda. Mostra que a maioria dos cliente tem entre 30 à 45 anos."
      ]
    },
    {
      "cell_type": "code",
      "metadata": {
        "colab": {
          "base_uri": "https://localhost:8080/",
          "height": 361
        },
        "id": "PuGP0yWZbU2B",
        "outputId": "12341961-5123-4974-d08a-8246999c7366"
      },
      "source": [
        "sns.distplot(df['Balance'],hist = True, kde = True)"
      ],
      "execution_count": 8,
      "outputs": [
        {
          "output_type": "stream",
          "name": "stderr",
          "text": [
            "/usr/local/lib/python3.7/dist-packages/seaborn/distributions.py:2619: FutureWarning: `distplot` is a deprecated function and will be removed in a future version. Please adapt your code to use either `displot` (a figure-level function with similar flexibility) or `histplot` (an axes-level function for histograms).\n",
            "  warnings.warn(msg, FutureWarning)\n"
          ]
        },
        {
          "output_type": "execute_result",
          "data": {
            "text/plain": [
              "<matplotlib.axes._subplots.AxesSubplot at 0x7f486217cf50>"
            ]
          },
          "metadata": {},
          "execution_count": 8
        },
        {
          "output_type": "display_data",
          "data": {
            "image/png": "[encoded data removed]",
            "text/plain": [
              "<Figure size 432x288 with 1 Axes>"
            ]
          },
          "metadata": {
            "needs_background": "light"
          }
        }
      ]
    },
    {
      "cell_type": "markdown",
      "metadata": {
        "id": "QWfn2hs8g7xC"
      },
      "source": [
        "- Mostra um número grande de cliente com pouco dinheiro na conta, podem possuir contas em outros bancos, talvez aqui taxas de juros mmais baixas e tarifas mais baixas, sejam um diferencial para reter o cliente."
      ]
    },
    {
      "cell_type": "code",
      "metadata": {
        "colab": {
          "base_uri": "https://localhost:8080/",
          "height": 350
        },
        "id": "4Od90BxZVRRI",
        "outputId": "40a58cbe-4530-481a-91c8-afd0809d7d72"
      },
      "source": [
        "sns.distplot(df['CreditScore'],hist = True, kde = True)"
      ],
      "execution_count": 9,
      "outputs": [
        {
          "output_type": "stream",
          "name": "stderr",
          "text": [
            "/usr/local/lib/python3.7/dist-packages/seaborn/distributions.py:2619: FutureWarning: `distplot` is a deprecated function and will be removed in a future version. Please adapt your code to use either `displot` (a figure-level function with similar flexibility) or `histplot` (an axes-level function for histograms).\n",
            "  warnings.warn(msg, FutureWarning)\n"
          ]
        },
        {
          "output_type": "execute_result",
          "data": {
            "text/plain": [
              "<matplotlib.axes._subplots.AxesSubplot at 0x7f486217c590>"
            ]
          },
          "metadata": {},
          "execution_count": 9
        },
        {
          "output_type": "display_data",
          "data": {
            "image/png": "[encoded data removed]",
            "text/plain": [
              "<Figure size 432x288 with 1 Axes>"
            ]
          },
          "metadata": {
            "needs_background": "light"
          }
        }
      ]
    },
    {
      "cell_type": "markdown",
      "metadata": {
        "id": "Wke6hcMxh5Di"
      },
      "source": [
        "-Essa variável, mostra valores assimetricos mais concentrados à esquerda, indica que maior parte do clientes, possuem um socre de crédito elevado."
      ]
    },
    {
      "cell_type": "code",
      "metadata": {
        "colab": {
          "base_uri": "https://localhost:8080/",
          "height": 350
        },
        "id": "ADZSvnVqXtTh",
        "outputId": "4acc19ac-2d5a-4d69-fa03-7888c796a97f"
      },
      "source": [
        "sns.distplot(df['NumOfProducts'],hist = True, kde = True)"
      ],
      "execution_count": 10,
      "outputs": [
        {
          "output_type": "stream",
          "name": "stderr",
          "text": [
            "/usr/local/lib/python3.7/dist-packages/seaborn/distributions.py:2619: FutureWarning: `distplot` is a deprecated function and will be removed in a future version. Please adapt your code to use either `displot` (a figure-level function with similar flexibility) or `histplot` (an axes-level function for histograms).\n",
            "  warnings.warn(msg, FutureWarning)\n"
          ]
        },
        {
          "output_type": "execute_result",
          "data": {
            "text/plain": [
              "<matplotlib.axes._subplots.AxesSubplot at 0x7f48620184d0>"
            ]
          },
          "metadata": {},
          "execution_count": 10
        },
        {
          "output_type": "display_data",
          "data": {
            "image/png": "[encoded data removed]",
            "text/plain": [
              "<Figure size 432x288 with 1 Axes>"
            ]
          },
          "metadata": {
            "needs_background": "light"
          }
        }
      ]
    },
    {
      "cell_type": "markdown",
      "metadata": {
        "id": "YSP79RSOiXaB"
      },
      "source": [
        "-Essa varável numero de produtos, mostra que que a maior parte dos cliente possuem até 2 produtos bancários."
      ]
    },
    {
      "cell_type": "code",
      "metadata": {
        "colab": {
          "base_uri": "https://localhost:8080/",
          "height": 350
        },
        "id": "cXAofd-AYJOo",
        "outputId": "442073c8-68c6-4fa4-afe0-6a5323854098"
      },
      "source": [
        "sns.distplot(df['HasCrCard'],hist = True, kde = True)"
      ],
      "execution_count": 11,
      "outputs": [
        {
          "output_type": "stream",
          "name": "stderr",
          "text": [
            "/usr/local/lib/python3.7/dist-packages/seaborn/distributions.py:2619: FutureWarning: `distplot` is a deprecated function and will be removed in a future version. Please adapt your code to use either `displot` (a figure-level function with similar flexibility) or `histplot` (an axes-level function for histograms).\n",
            "  warnings.warn(msg, FutureWarning)\n"
          ]
        },
        {
          "output_type": "execute_result",
          "data": {
            "text/plain": [
              "<matplotlib.axes._subplots.AxesSubplot at 0x7f48620200d0>"
            ]
          },
          "metadata": {},
          "execution_count": 11
        },
        {
          "output_type": "display_data",
          "data": {
            "image/png": "[encoded data removed]",
            "text/plain": [
              "<Figure size 432x288 with 1 Axes>"
            ]
          },
          "metadata": {
            "needs_background": "light"
          }
        }
      ]
    },
    {
      "cell_type": "markdown",
      "metadata": {
        "id": "LW2pCgyWjbz6"
      },
      "source": [
        "-O gráfico da variável cartão de crédito, mostra que grande parte dos cliente usam cartão de crédito."
      ]
    },
    {
      "cell_type": "code",
      "metadata": {
        "colab": {
          "base_uri": "https://localhost:8080/",
          "height": 350
        },
        "id": "m84FnTh4bsrm",
        "outputId": "cda6fd38-d918-40ab-a022-9d425d5bb098"
      },
      "source": [
        "sns.distplot(df['Tenure'],hist = True, kde = True)"
      ],
      "execution_count": 12,
      "outputs": [
        {
          "output_type": "stream",
          "name": "stderr",
          "text": [
            "/usr/local/lib/python3.7/dist-packages/seaborn/distributions.py:2619: FutureWarning: `distplot` is a deprecated function and will be removed in a future version. Please adapt your code to use either `displot` (a figure-level function with similar flexibility) or `histplot` (an axes-level function for histograms).\n",
            "  warnings.warn(msg, FutureWarning)\n"
          ]
        },
        {
          "output_type": "execute_result",
          "data": {
            "text/plain": [
              "<matplotlib.axes._subplots.AxesSubplot at 0x7f4861efa6d0>"
            ]
          },
          "metadata": {},
          "execution_count": 12
        },
        {
          "output_type": "display_data",
          "data": {
            "image/png": "[encoded data removed]",
            "text/plain": [
              "<Figure size 432x288 with 1 Axes>"
            ]
          },
          "metadata": {
            "needs_background": "light"
          }
        }
      ]
    },
    {
      "cell_type": "markdown",
      "metadata": {
        "id": "ctoO7CjpnHX7"
      },
      "source": [
        "Variavel estabilidade no emprego, apresenta um forma uniforme, um certo equilibrio."
      ]
    },
    {
      "cell_type": "code",
      "metadata": {
        "colab": {
          "base_uri": "https://localhost:8080/",
          "height": 350
        },
        "id": "InHRLWmFb4a1",
        "outputId": "49ce1c97-320b-4693-c198-ffe643d6e9b1"
      },
      "source": [
        "sns.distplot(df['IsActiveMember'],hist = True, kde = True)"
      ],
      "execution_count": 13,
      "outputs": [
        {
          "output_type": "stream",
          "name": "stderr",
          "text": [
            "/usr/local/lib/python3.7/dist-packages/seaborn/distributions.py:2619: FutureWarning: `distplot` is a deprecated function and will be removed in a future version. Please adapt your code to use either `displot` (a figure-level function with similar flexibility) or `histplot` (an axes-level function for histograms).\n",
            "  warnings.warn(msg, FutureWarning)\n"
          ]
        },
        {
          "output_type": "execute_result",
          "data": {
            "text/plain": [
              "<matplotlib.axes._subplots.AxesSubplot at 0x7f4861e930d0>"
            ]
          },
          "metadata": {},
          "execution_count": 13
        },
        {
          "output_type": "display_data",
          "data": {
            "image/png": "[encoded data removed]",
            "text/plain": [
              "<Figure size 432x288 with 1 Axes>"
            ]
          },
          "metadata": {
            "needs_background": "light"
          }
        }
      ]
    },
    {
      "cell_type": "markdown",
      "metadata": {
        "id": "O4ZxamelkLGA"
      },
      "source": [
        "-Notamos que o gráfico da varável cliente ativos, mostra que existe um equilíbiro entre quem movimenta a conta e quem não movimenta a conta."
      ]
    },
    {
      "cell_type": "markdown",
      "metadata": {
        "id": "K8KhJdw8sGTG"
      },
      "source": [
        "##Varáveis Categóricas"
      ]
    },
    {
      "cell_type": "markdown",
      "metadata": {
        "id": "RuvOZxjMBaZQ"
      },
      "source": [
        "- Variável País"
      ]
    },
    {
      "cell_type": "code",
      "metadata": {
        "id": "jah6_sv2cVg2"
      },
      "source": [
        "df['Geography'] = df['Geography'].replace(['France','Germany', 'Spain'], ['França','Alemanha','Espanha'])"
      ],
      "execution_count": 14,
      "outputs": []
    },
    {
      "cell_type": "code",
      "metadata": {
        "colab": {
          "base_uri": "https://localhost:8080/",
          "height": 142
        },
        "id": "gTTFrjCDCpSU",
        "outputId": "055c7334-63b5-4370-db16-a0ad59660e7f"
      },
      "source": [
        "df_plot = df.groupby('Geography'). Exited.mean(). reset_index()\n",
        "df_plot"
      ],
      "execution_count": 15,
      "outputs": [
        {
          "output_type": "execute_result",
          "data": {
            "text/html": [
              "<div>\n",
              "<style scoped>\n",
              "    .dataframe tbody tr th:only-of-type {\n",
              "        vertical-align: middle;\n",
              "    }\n",
              "\n",
              "    .dataframe tbody tr th {\n",
              "        vertical-align: top;\n",
              "    }\n",
              "\n",
              "    .dataframe thead th {\n",
              "        text-align: right;\n",
              "    }\n",
              "</style>\n",
              "<table border=\"1\" class=\"dataframe\">\n",
              "  <thead>\n",
              "    <tr style=\"text-align: right;\">\n",
              "      <th></th>\n",
              "      <th>Geography</th>\n",
              "      <th>Exited</th>\n",
              "    </tr>\n",
              "  </thead>\n",
              "  <tbody>\n",
              "    <tr>\n",
              "      <th>0</th>\n",
              "      <td>Alemanha</td>\n",
              "      <td>0.324432</td>\n",
              "    </tr>\n",
              "    <tr>\n",
              "      <th>1</th>\n",
              "      <td>Espanha</td>\n",
              "      <td>0.166734</td>\n",
              "    </tr>\n",
              "    <tr>\n",
              "      <th>2</th>\n",
              "      <td>França</td>\n",
              "      <td>0.161548</td>\n",
              "    </tr>\n",
              "  </tbody>\n",
              "</table>\n",
              "</div>"
            ],
            "text/plain": [
              "  Geography    Exited\n",
              "0  Alemanha  0.324432\n",
              "1   Espanha  0.166734\n",
              "2    França  0.161548"
            ]
          },
          "metadata": {},
          "execution_count": 15
        }
      ]
    },
    {
      "cell_type": "markdown",
      "metadata": {
        "id": "3q5FoRPoDS1B"
      },
      "source": [
        "- País em relação a variável exited (churn)"
      ]
    },
    {
      "cell_type": "code",
      "metadata": {
        "id": "JElxkMyfGXlm"
      },
      "source": [
        "#DEFININDO UMA PALETA DE CORES PARA MELHOR VISALIZAÇÃO FO GRÁFICO\n",
        "myred='#CD5C5C'\n",
        "myblue='#6495ED'\n",
        "mygreen='#90EE90'\n",
        "colunas= [myred, myblue,mygreen]"
      ],
      "execution_count": 16,
      "outputs": []
    },
    {
      "cell_type": "code",
      "metadata": {
        "colab": {
          "base_uri": "https://localhost:8080/",
          "height": 295
        },
        "id": "Q4lFDpVeDHUe",
        "outputId": "85781101-64e0-41bb-a061-92b796345996"
      },
      "source": [
        "x = df_plot['Geography']\n",
        "y= df_plot['Exited']\n",
        "plt.bar(x,y, color=colunas);\n",
        "plt.title('Taxa de Churn em relação ao País');\n",
        "plt.xlabel('País');\n",
        "plt.ylabel('Taxa de Churn');\n",
        "\n",
        "\n"
      ],
      "execution_count": 17,
      "outputs": [
        {
          "output_type": "display_data",
          "data": {
            "image/png": "[encoded data removed]",
            "text/plain": [
              "<Figure size 432x288 with 1 Axes>"
            ]
          },
          "metadata": {
            "needs_background": "light"
          }
        }
      ]
    },
    {
      "cell_type": "markdown",
      "metadata": {
        "id": "CCvflKCaG61O"
      },
      "source": [
        "- Obsevamos que Espanha e França tem uma taxa equivalente de 16% dos cliente encerrarem a conta.\n",
        "- Já na Alemanha a taxa de churn é de 32%, cliente que encerram a conta."
      ]
    },
    {
      "cell_type": "markdown",
      "metadata": {
        "id": "Hi8S3d-xHbmM"
      },
      "source": [
        "- Variável Cartão de crédito em relação a varável Churn(exited)"
      ]
    },
    {
      "cell_type": "code",
      "metadata": {
        "id": "HnsBbGCgH_ZW"
      },
      "source": [
        "df['HasCrCard'] = df['HasCrCard'].replace([0,1],['Não','Sim'])"
      ],
      "execution_count": 18,
      "outputs": []
    },
    {
      "cell_type": "code",
      "metadata": {
        "colab": {
          "base_uri": "https://localhost:8080/",
          "height": 111
        },
        "id": "6DFt9h4FI9AG",
        "outputId": "6a7927d9-d3c1-4aaf-b08c-e3de51b70c68"
      },
      "source": [
        "df_plot = df.groupby('HasCrCard') .Exited.mean(). reset_index()\n",
        "df_plot"
      ],
      "execution_count": 19,
      "outputs": [
        {
          "output_type": "execute_result",
          "data": {
            "text/html": [
              "<div>\n",
              "<style scoped>\n",
              "    .dataframe tbody tr th:only-of-type {\n",
              "        vertical-align: middle;\n",
              "    }\n",
              "\n",
              "    .dataframe tbody tr th {\n",
              "        vertical-align: top;\n",
              "    }\n",
              "\n",
              "    .dataframe thead th {\n",
              "        text-align: right;\n",
              "    }\n",
              "</style>\n",
              "<table border=\"1\" class=\"dataframe\">\n",
              "  <thead>\n",
              "    <tr style=\"text-align: right;\">\n",
              "      <th></th>\n",
              "      <th>HasCrCard</th>\n",
              "      <th>Exited</th>\n",
              "    </tr>\n",
              "  </thead>\n",
              "  <tbody>\n",
              "    <tr>\n",
              "      <th>0</th>\n",
              "      <td>Não</td>\n",
              "      <td>0.208149</td>\n",
              "    </tr>\n",
              "    <tr>\n",
              "      <th>1</th>\n",
              "      <td>Sim</td>\n",
              "      <td>0.201843</td>\n",
              "    </tr>\n",
              "  </tbody>\n",
              "</table>\n",
              "</div>"
            ],
            "text/plain": [
              "  HasCrCard    Exited\n",
              "0       Não  0.208149\n",
              "1       Sim  0.201843"
            ]
          },
          "metadata": {},
          "execution_count": 19
        }
      ]
    },
    {
      "cell_type": "code",
      "metadata": {
        "colab": {
          "base_uri": "https://localhost:8080/",
          "height": 295
        },
        "id": "3mjTe5hdJRj-",
        "outputId": "fa84ce76-8e6f-4c36-a952-9942bf683c2b"
      },
      "source": [
        "x = df_plot['HasCrCard']\n",
        "y = df_plot['Exited']\n",
        "plt.bar(x,y, color=colunas);\n",
        "plt.title('Taxa de Churn em relação a variável cartão de crpedito');\n",
        "plt.xlabel('Cartão de Crédito');\n",
        "plt.ylabel('Taxa de Chur');"
      ],
      "execution_count": 20,
      "outputs": [
        {
          "output_type": "display_data",
          "data": {
            "image/png": "[encoded data removed]",
            "text/plain": [
              "<Figure size 432x288 with 1 Axes>"
            ]
          },
          "metadata": {
            "needs_background": "light"
          }
        }
      ]
    },
    {
      "cell_type": "markdown",
      "metadata": {
        "id": "T02UZlI7KPOJ"
      },
      "source": [
        "- Observamos no gráfico que o cartão de crédito aparentemente não influencia no Churn, ou seja no encerramento da conta."
      ]
    },
    {
      "cell_type": "markdown",
      "metadata": {
        "id": "uNRmjUNbKyiZ"
      },
      "source": [
        "- Variável Cliente Ativo"
      ]
    },
    {
      "cell_type": "code",
      "metadata": {
        "id": "Elr-RarXNYp5"
      },
      "source": [
        "df['IsActiveMember'] = df['IsActiveMember'].replace([0,1],['Não','Sim'])"
      ],
      "execution_count": 21,
      "outputs": []
    },
    {
      "cell_type": "code",
      "metadata": {
        "colab": {
          "base_uri": "https://localhost:8080/",
          "height": 111
        },
        "id": "16syJ4n_Np42",
        "outputId": "e22199d3-feab-43ec-e02e-7d364eb6788e"
      },
      "source": [
        "df_plot = df.groupby('IsActiveMember'). Exited.mean(). reset_index()\n",
        "df_plot"
      ],
      "execution_count": 22,
      "outputs": [
        {
          "output_type": "execute_result",
          "data": {
            "text/html": [
              "<div>\n",
              "<style scoped>\n",
              "    .dataframe tbody tr th:only-of-type {\n",
              "        vertical-align: middle;\n",
              "    }\n",
              "\n",
              "    .dataframe tbody tr th {\n",
              "        vertical-align: top;\n",
              "    }\n",
              "\n",
              "    .dataframe thead th {\n",
              "        text-align: right;\n",
              "    }\n",
              "</style>\n",
              "<table border=\"1\" class=\"dataframe\">\n",
              "  <thead>\n",
              "    <tr style=\"text-align: right;\">\n",
              "      <th></th>\n",
              "      <th>IsActiveMember</th>\n",
              "      <th>Exited</th>\n",
              "    </tr>\n",
              "  </thead>\n",
              "  <tbody>\n",
              "    <tr>\n",
              "      <th>0</th>\n",
              "      <td>Não</td>\n",
              "      <td>0.268509</td>\n",
              "    </tr>\n",
              "    <tr>\n",
              "      <th>1</th>\n",
              "      <td>Sim</td>\n",
              "      <td>0.142691</td>\n",
              "    </tr>\n",
              "  </tbody>\n",
              "</table>\n",
              "</div>"
            ],
            "text/plain": [
              "  IsActiveMember    Exited\n",
              "0            Não  0.268509\n",
              "1            Sim  0.142691"
            ]
          },
          "metadata": {},
          "execution_count": 22
        }
      ]
    },
    {
      "cell_type": "code",
      "metadata": {
        "colab": {
          "base_uri": "https://localhost:8080/",
          "height": 295
        },
        "id": "9Q7FGXhaOE7T",
        "outputId": "baff8e9a-6ec6-4848-806f-61a296790e3c"
      },
      "source": [
        "#Cliente ativo em relação a variável Churn\n",
        "x = df_plot['IsActiveMember']\n",
        "y = df_plot['Exited']\n",
        "plt.bar(x,y,color=colunas);\n",
        "plt.title('Taxa de Churn em relação a variável Membro Ativo');\n",
        "plt.xlabel('Cliente ativo');\n",
        "plt.ylabel('Taxa de Churn');"
      ],
      "execution_count": 23,
      "outputs": [
        {
          "output_type": "display_data",
          "data": {
            "image/png": "[encoded data removed]",
            "text/plain": [
              "<Figure size 432x288 with 1 Axes>"
            ]
          },
          "metadata": {
            "needs_background": "light"
          }
        }
      ]
    },
    {
      "cell_type": "markdown",
      "metadata": {
        "id": "ZhOLuAewO5s-"
      },
      "source": [
        "- Observamos que a taxa de churn é maior para os clientes não ativos."
      ]
    },
    {
      "cell_type": "markdown",
      "metadata": {
        "id": "nKnmAsdHqXEM"
      },
      "source": [
        "###Variaveis Numéricas\n"
      ]
    },
    {
      "cell_type": "code",
      "metadata": {
        "colab": {
          "base_uri": "https://localhost:8080/",
          "height": 419
        },
        "id": "RUv8geiSrGxZ",
        "outputId": "6ac5d7ef-7a31-4b33-baf9-4f088c1b1dbb"
      },
      "source": [
        "df_cont=df[['Age','Balance','Tenure','NumOfProducts','EstimatedSalary']]\n",
        "df_cont"
      ],
      "execution_count": 24,
      "outputs": [
        {
          "output_type": "execute_result",
          "data": {
            "text/html": [
              "<div>\n",
              "<style scoped>\n",
              "    .dataframe tbody tr th:only-of-type {\n",
              "        vertical-align: middle;\n",
              "    }\n",
              "\n",
              "    .dataframe tbody tr th {\n",
              "        vertical-align: top;\n",
              "    }\n",
              "\n",
              "    .dataframe thead th {\n",
              "        text-align: right;\n",
              "    }\n",
              "</style>\n",
              "<table border=\"1\" class=\"dataframe\">\n",
              "  <thead>\n",
              "    <tr style=\"text-align: right;\">\n",
              "      <th></th>\n",
              "      <th>Age</th>\n",
              "      <th>Balance</th>\n",
              "      <th>Tenure</th>\n",
              "      <th>NumOfProducts</th>\n",
              "      <th>EstimatedSalary</th>\n",
              "    </tr>\n",
              "  </thead>\n",
              "  <tbody>\n",
              "    <tr>\n",
              "      <th>0</th>\n",
              "      <td>42</td>\n",
              "      <td>0.00</td>\n",
              "      <td>2</td>\n",
              "      <td>1</td>\n",
              "      <td>101348.88</td>\n",
              "    </tr>\n",
              "    <tr>\n",
              "      <th>1</th>\n",
              "      <td>41</td>\n",
              "      <td>83807.86</td>\n",
              "      <td>1</td>\n",
              "      <td>1</td>\n",
              "      <td>112542.58</td>\n",
              "    </tr>\n",
              "    <tr>\n",
              "      <th>2</th>\n",
              "      <td>42</td>\n",
              "      <td>159660.80</td>\n",
              "      <td>8</td>\n",
              "      <td>3</td>\n",
              "      <td>113931.57</td>\n",
              "    </tr>\n",
              "    <tr>\n",
              "      <th>3</th>\n",
              "      <td>39</td>\n",
              "      <td>0.00</td>\n",
              "      <td>1</td>\n",
              "      <td>2</td>\n",
              "      <td>93826.63</td>\n",
              "    </tr>\n",
              "    <tr>\n",
              "      <th>4</th>\n",
              "      <td>43</td>\n",
              "      <td>125510.82</td>\n",
              "      <td>2</td>\n",
              "      <td>1</td>\n",
              "      <td>79084.10</td>\n",
              "    </tr>\n",
              "    <tr>\n",
              "      <th>...</th>\n",
              "      <td>...</td>\n",
              "      <td>...</td>\n",
              "      <td>...</td>\n",
              "      <td>...</td>\n",
              "      <td>...</td>\n",
              "    </tr>\n",
              "    <tr>\n",
              "      <th>9995</th>\n",
              "      <td>39</td>\n",
              "      <td>0.00</td>\n",
              "      <td>5</td>\n",
              "      <td>2</td>\n",
              "      <td>96270.64</td>\n",
              "    </tr>\n",
              "    <tr>\n",
              "      <th>9996</th>\n",
              "      <td>35</td>\n",
              "      <td>57369.61</td>\n",
              "      <td>10</td>\n",
              "      <td>1</td>\n",
              "      <td>101699.77</td>\n",
              "    </tr>\n",
              "    <tr>\n",
              "      <th>9997</th>\n",
              "      <td>36</td>\n",
              "      <td>0.00</td>\n",
              "      <td>7</td>\n",
              "      <td>1</td>\n",
              "      <td>42085.58</td>\n",
              "    </tr>\n",
              "    <tr>\n",
              "      <th>9998</th>\n",
              "      <td>42</td>\n",
              "      <td>75075.31</td>\n",
              "      <td>3</td>\n",
              "      <td>2</td>\n",
              "      <td>92888.52</td>\n",
              "    </tr>\n",
              "    <tr>\n",
              "      <th>9999</th>\n",
              "      <td>28</td>\n",
              "      <td>130142.79</td>\n",
              "      <td>4</td>\n",
              "      <td>1</td>\n",
              "      <td>38190.78</td>\n",
              "    </tr>\n",
              "  </tbody>\n",
              "</table>\n",
              "<p>10000 rows × 5 columns</p>\n",
              "</div>"
            ],
            "text/plain": [
              "      Age    Balance  Tenure  NumOfProducts  EstimatedSalary\n",
              "0      42       0.00       2              1        101348.88\n",
              "1      41   83807.86       1              1        112542.58\n",
              "2      42  159660.80       8              3        113931.57\n",
              "3      39       0.00       1              2         93826.63\n",
              "4      43  125510.82       2              1         79084.10\n",
              "...   ...        ...     ...            ...              ...\n",
              "9995   39       0.00       5              2         96270.64\n",
              "9996   35   57369.61      10              1        101699.77\n",
              "9997   36       0.00       7              1         42085.58\n",
              "9998   42   75075.31       3              2         92888.52\n",
              "9999   28  130142.79       4              1         38190.78\n",
              "\n",
              "[10000 rows x 5 columns]"
            ]
          },
          "metadata": {},
          "execution_count": 24
        }
      ]
    },
    {
      "cell_type": "code",
      "metadata": {
        "colab": {
          "base_uri": "https://localhost:8080/",
          "height": 341
        },
        "id": "vl8gwX-0qZUi",
        "outputId": "da565632-35d9-4c19-f3c8-59d50ea92c59"
      },
      "source": [
        "sns.heatmap(df_cont.corr(),annot = True, cmap ='Blues');"
      ],
      "execution_count": 25,
      "outputs": [
        {
          "output_type": "display_data",
          "data": {
            "image/png": "[encoded data removed]",
            "text/plain": [
              "<Figure size 432x288 with 2 Axes>"
            ]
          },
          "metadata": {
            "needs_background": "light"
          }
        }
      ]
    },
    {
      "cell_type": "markdown",
      "metadata": {
        "id": "q9ziURuIrTD3"
      },
      "source": [
        "- matriz de correlação, verificar a relação entre as variáveis.\n",
        "-Nota que a correlação é baixa. A maior correlação é entre numero de produtos e saldo bancário que possui uma correlção negatica -0.3. Correlação inversa entre essas varáveis, quanto maior o menor o numero de produto, maior o saldo bancário."
      ]
    },
    {
      "cell_type": "markdown",
      "metadata": {
        "id": "bu9VkILqP980"
      },
      "source": [
        "###Analise das varáveis numéricas em relação a varável churn."
      ]
    },
    {
      "cell_type": "code",
      "metadata": {
        "id": "9Eo75BbR_oXM"
      },
      "source": [
        "df['Exited_cat']=df['Exited'].replace([0,1],['Nao','Sim'])\n"
      ],
      "execution_count": 33,
      "outputs": []
    },
    {
      "cell_type": "markdown",
      "metadata": {
        "id": "qsJuWbX8QI4x"
      },
      "source": [
        "- Variável número de produtos"
      ]
    },
    {
      "cell_type": "code",
      "metadata": {
        "colab": {
          "base_uri": "https://localhost:8080/",
          "height": 173
        },
        "id": "l5xFCOj5qt_K",
        "outputId": "90b57d3e-ba33-456d-ce0b-6ead07b82410"
      },
      "source": [
        "df_plot = df.groupby ('NumOfProducts').Exited.mean(). reset_index () \n",
        "df_plot"
      ],
      "execution_count": 26,
      "outputs": [
        {
          "output_type": "execute_result",
          "data": {
            "text/html": [
              "<div>\n",
              "<style scoped>\n",
              "    .dataframe tbody tr th:only-of-type {\n",
              "        vertical-align: middle;\n",
              "    }\n",
              "\n",
              "    .dataframe tbody tr th {\n",
              "        vertical-align: top;\n",
              "    }\n",
              "\n",
              "    .dataframe thead th {\n",
              "        text-align: right;\n",
              "    }\n",
              "</style>\n",
              "<table border=\"1\" class=\"dataframe\">\n",
              "  <thead>\n",
              "    <tr style=\"text-align: right;\">\n",
              "      <th></th>\n",
              "      <th>NumOfProducts</th>\n",
              "      <th>Exited</th>\n",
              "    </tr>\n",
              "  </thead>\n",
              "  <tbody>\n",
              "    <tr>\n",
              "      <th>0</th>\n",
              "      <td>1</td>\n",
              "      <td>0.277144</td>\n",
              "    </tr>\n",
              "    <tr>\n",
              "      <th>1</th>\n",
              "      <td>2</td>\n",
              "      <td>0.075817</td>\n",
              "    </tr>\n",
              "    <tr>\n",
              "      <th>2</th>\n",
              "      <td>3</td>\n",
              "      <td>0.827068</td>\n",
              "    </tr>\n",
              "    <tr>\n",
              "      <th>3</th>\n",
              "      <td>4</td>\n",
              "      <td>1.000000</td>\n",
              "    </tr>\n",
              "  </tbody>\n",
              "</table>\n",
              "</div>"
            ],
            "text/plain": [
              "   NumOfProducts    Exited\n",
              "0              1  0.277144\n",
              "1              2  0.075817\n",
              "2              3  0.827068\n",
              "3              4  1.000000"
            ]
          },
          "metadata": {},
          "execution_count": 26
        }
      ]
    },
    {
      "cell_type": "code",
      "metadata": {
        "colab": {
          "base_uri": "https://localhost:8080/",
          "height": 296
        },
        "id": "IVFAip3kQQgb",
        "outputId": "24b564e9-7b66-419b-a0d1-58e1653bbe11"
      },
      "source": [
        "\n",
        "#Número de produtos em relação a variável churn\n",
        "x =df_plot['NumOfProducts']\n",
        "y=df_plot['Exited']\n",
        "plt.bar(x,y);\n",
        "plt.title('Taxa de Churn em relação ao Número de Produtos');\n",
        "plt.xlabel('Números de produtos');\n",
        "plt.ylabel('Taxa de Churn');\n",
        "plt.xticks(x, (1,2,3,4)); #funçaõ permite alterar o eixo do gráfico"
      ],
      "execution_count": 27,
      "outputs": [
        {
          "output_type": "display_data",
          "data": {
            "image/png": "[encoded data removed]",
            "text/plain": [
              "<Figure size 432x288 with 1 Axes>"
            ]
          },
          "metadata": {
            "needs_background": "light"
          }
        }
      ]
    },
    {
      "cell_type": "markdown",
      "metadata": {
        "id": "Miu_q5jnQb72"
      },
      "source": [
        "- Observamos que quanto mais produtos o cliente têm, maior a chance de ele cancelar a conta.\n",
        "- Cliente com muito produtos, são cliente ativos, e recebem propostas de concorrentes com taxas e tarifas mais atrativas para portabilidade. Devem ser monitorados e ter um atendimento personalizado para que os mesmos não migrem para concorrência."
      ]
    },
    {
      "cell_type": "markdown",
      "metadata": {
        "id": "lF0R3hW5TDX4"
      },
      "source": [
        "- Variável Estabilidade no emprego (Tenure)"
      ]
    },
    {
      "cell_type": "code",
      "metadata": {
        "colab": {
          "base_uri": "https://localhost:8080/",
          "height": 299
        },
        "id": "oGh-0k00QaEM",
        "outputId": "0ac1e829-bd02-46d4-f562-f93f1966df84"
      },
      "source": [
        "\n",
        "df_plot = df.groupby ('Tenure'). Exited.mean (). reset_index () \n",
        "#Número de produtos em relação a variável churn\n",
        "x =df_plot['Tenure']\n",
        "y=df_plot['Exited']\n",
        "plt.bar(x,y);\n",
        "plt.title('Taxa de Churn em relação ao Índice de Estabilidade no emprego');\n",
        "plt.xlabel('Índice de Estabilidade no emprego');\n",
        "plt.ylabel('Taxa de Churn');\n",
        "plt.xticks(x, (0,1,2,3,4,5,6,7,8,9,10));"
      ],
      "execution_count": 28,
      "outputs": [
        {
          "output_type": "display_data",
          "data": {
            "image/png": "[encoded data removed]",
            "text/plain": [
              "<Figure size 432x288 with 1 Axes>"
            ]
          },
          "metadata": {
            "needs_background": "light"
          }
        }
      ]
    },
    {
      "cell_type": "markdown",
      "metadata": {
        "id": "8-wxc_KMTLT_"
      },
      "source": [
        "- Grafico mais unifome, mostra que a estabilidade não influência tanto na taxa de churn."
      ]
    },
    {
      "cell_type": "markdown",
      "metadata": {
        "id": "C-8CxYqo96qL"
      },
      "source": [
        "- Variável saldo Bancário"
      ]
    },
    {
      "cell_type": "code",
      "metadata": {
        "id": "AvSg-15iTKIt",
        "colab": {
          "base_uri": "https://localhost:8080/",
          "height": 363
        },
        "outputId": "f18edd3e-6d7a-4a1a-de8c-fb60ea61fd74"
      },
      "source": [
        "cols= [myred, myblue,mygreen]\n",
        "sns.boxplot(x=\"Exited_cat\", y=\"Balance\", data=df,palette=cols);\n",
        "plt.title('Box-plot da variável Saldo bancário');\n",
        "plt.xlabel('Variável Churn');\n",
        "plt.ylabel('Saldo Bancário');\n",
        "df.groupby(['Exited_cat'])['Balance'].mean()"
      ],
      "execution_count": 34,
      "outputs": [
        {
          "output_type": "execute_result",
          "data": {
            "text/plain": [
              "Exited_cat\n",
              "Nao    72745.296779\n",
              "Sim    91108.539337\n",
              "Name: Balance, dtype: float64"
            ]
          },
          "metadata": {},
          "execution_count": 34
        },
        {
          "output_type": "display_data",
          "data": {
            "image/png": "[encoded data removed]",
            "text/plain": [
              "<Figure size 432x288 with 1 Axes>"
            ]
          },
          "metadata": {
            "needs_background": "light"
          }
        }
      ]
    },
    {
      "cell_type": "markdown",
      "metadata": {
        "id": "0LH3_zuZAPFm"
      },
      "source": [
        "A taxa de churn é maior para cliente com saldo bancário maior."
      ]
    },
    {
      "cell_type": "markdown",
      "metadata": {
        "id": "uy5uaoC-Ar3K"
      },
      "source": [
        "- Variavél salário em relação ao Churn"
      ]
    },
    {
      "cell_type": "code",
      "metadata": {
        "colab": {
          "base_uri": "https://localhost:8080/",
          "height": 279
        },
        "id": "KbgvoOQF-QL1",
        "outputId": "4b6750f8-6077-4c80-e2ee-cf32420125d1"
      },
      "source": [
        "sns.boxplot(x=\"Exited_cat\", y=\"EstimatedSalary\" , data=df,palette=cols);\n",
        "df.groupby(['Exited'])['EstimatedSalary'].mean()\n",
        "plt.xlabel('Churn');\n",
        "plt.ylabel('Salário');"
      ],
      "execution_count": 35,
      "outputs": [
        {
          "output_type": "display_data",
          "data": {
            "image/png": "[encoded data removed]",
            "text/plain": [
              "<Figure size 432x288 with 1 Axes>"
            ]
          },
          "metadata": {
            "needs_background": "light"
          }
        }
      ]
    },
    {
      "cell_type": "markdown",
      "metadata": {
        "id": "MIwb4vGBA3HK"
      },
      "source": [
        "- Oberser que o saálrio não tem muito influencio na taxa de churn, ambos equivalentes."
      ]
    },
    {
      "cell_type": "markdown",
      "metadata": {
        "id": "pqcEmVK6BE_-"
      },
      "source": [
        "- Váriavel idade em relação ao Churn"
      ]
    },
    {
      "cell_type": "code",
      "metadata": {
        "colab": {
          "base_uri": "https://localhost:8080/",
          "height": 312
        },
        "id": "iLaGGIkVA2OS",
        "outputId": "6b110c10-2c94-49e2-d147-9de27ad7ce2b"
      },
      "source": [
        "df_plot = df.groupby ('Age'). Exited.mean (). reset_index () \n",
        "#Número de produtos em relação a variável churn\n",
        "x = df_plot['Age']\n",
        "y = df_plot['Exited']\n",
        "plt.scatter(x,y)\n",
        "plt.title('Taxa de Churn em relação a Idade')\n",
        "plt.xlabel('Idade')\n",
        "plt.ylabel('Taxa de Churn')"
      ],
      "execution_count": 36,
      "outputs": [
        {
          "output_type": "execute_result",
          "data": {
            "text/plain": [
              "Text(0, 0.5, 'Taxa de Churn')"
            ]
          },
          "metadata": {},
          "execution_count": 36
        },
        {
          "output_type": "display_data",
          "data": {
            "image/png": "[encoded data removed]",
            "text/plain": [
              "<Figure size 432x288 with 1 Axes>"
            ]
          },
          "metadata": {
            "needs_background": "light"
          }
        }
      ]
    },
    {
      "cell_type": "markdown",
      "metadata": {
        "id": "XzC2fPxbBQvU"
      },
      "source": [
        "- Observando o gráfico de dispersão, obeserva que as pessoas com idade entre 50 a 60 anos cancelam mais a conta bancária."
      ]
    },
    {
      "cell_type": "code",
      "metadata": {
        "colab": {
          "base_uri": "https://localhost:8080/",
          "height": 347
        },
        "id": "jYLYyMjpBPkj",
        "outputId": "887fdc92-3132-42c2-f607-651b46d871f8"
      },
      "source": [
        "sns.boxplot(x=\"Exited_cat\", y=\"Age\" , data=df,palette=cols);\n",
        "plt.xlabel('Churn');\n",
        "plt.ylabel('Idade');\n",
        "df.groupby(['Exited'])['Age'].mean()"
      ],
      "execution_count": 37,
      "outputs": [
        {
          "output_type": "execute_result",
          "data": {
            "text/plain": [
              "Exited\n",
              "0    37.408389\n",
              "1    44.837997\n",
              "Name: Age, dtype: float64"
            ]
          },
          "metadata": {},
          "execution_count": 37
        },
        {
          "output_type": "display_data",
          "data": {
            "image/png": "[encoded data removed]",
            "text/plain": [
              "<Figure size 432x288 with 1 Axes>"
            ]
          },
          "metadata": {
            "needs_background": "light"
          }
        }
      ]
    },
    {
      "cell_type": "markdown",
      "metadata": {
        "id": "-yKiDqk6Buo9"
      },
      "source": [
        "- O Blox-Plot confirma que cliente com maior idade cacelaram a conta."
      ]
    },
    {
      "cell_type": "markdown",
      "metadata": {
        "id": "KQH6Ud9oCVjj"
      },
      "source": [
        "- Churn em relação ao score de crédito\n",
        "\n",
        "\n"
      ]
    },
    {
      "cell_type": "code",
      "metadata": {
        "colab": {
          "base_uri": "https://localhost:8080/",
          "height": 312
        },
        "id": "2Kd48cN6COKX",
        "outputId": "fcc00a6d-989f-4300-b47f-63689bfff5e8"
      },
      "source": [
        "df_plot = df.groupby ('CreditScore'). Exited.mean (). reset_index () \n",
        "\n",
        "x =df_plot['CreditScore']\n",
        "y=df_plot['Exited']\n",
        "plt.scatter(x,y)\n",
        "plt.title('Taxa de Churn em relação ao Score de Crédito')\n",
        "plt.xlabel('Score de Crédito')\n",
        "plt.ylabel('Taxa de Churn')"
      ],
      "execution_count": 38,
      "outputs": [
        {
          "output_type": "execute_result",
          "data": {
            "text/plain": [
              "Text(0, 0.5, 'Taxa de Churn')"
            ]
          },
          "metadata": {},
          "execution_count": 38
        },
        {
          "output_type": "display_data",
          "data": {
            "image/png": "[encoded data removed]",
            "text/plain": [
              "<Figure size 432x288 with 1 Axes>"
            ]
          },
          "metadata": {
            "needs_background": "light"
          }
        }
      ]
    },
    {
      "cell_type": "markdown",
      "metadata": {
        "id": "QOufehxPECeZ"
      },
      "source": [
        "Fica evidente que a taxa de churn é maior em cliente com baixo score de crédito."
      ]
    },
    {
      "cell_type": "markdown",
      "metadata": {
        "id": "rFTMwL-nETFb"
      },
      "source": [
        "##Conclusão da Análise de dados."
      ]
    },
    {
      "cell_type": "markdown",
      "metadata": {
        "id": "zZyIEBDxFBDo"
      },
      "source": [
        "- Fica evidente que o perfil do cliente com taxa de churn maior, são pessoas com idades entre 40 a 60 anos e com score de crédito mais baixo.\n",
        "- O País onde o cancelamento do serviço é maior é a Alemanha.\n",
        "- Cliente não ativos tem uma maior taxa de cancelamento\n",
        "- Essa análise mostra pontos onde podem ser trabalhados, para desenvolver estratégias para fidelizar o cliente,onde pode ser explorado um atendimento mais personalisado, felxibilidade em taxas de empréstimos e tarifas diferenciadas com sistemas de recompensas por produtos ou pontos."
      ]
    },
    {
      "cell_type": "code",
      "metadata": {
        "id": "x9E4YIJWFBvj"
      },
      "source": [
        ""
      ],
      "execution_count": null,
      "outputs": []
    }
  ]
}