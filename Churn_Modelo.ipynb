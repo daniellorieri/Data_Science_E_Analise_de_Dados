{
  "nbformat": 4,
  "nbformat_minor": 0,
  "metadata": {
    "colab": {
      "name": "Churn_Modelo.ipynb",
      "provenance": [],
      "collapsed_sections": [],
      "mount_file_id": "1GTu3RNKUFDR0M1obo6-YSh8WFWr1BAHC",
      "authorship_tag": "ABX9TyOj22MR0xRWpQCCkN/QfpSd",
      "include_colab_link": true
    },
    "kernelspec": {
      "name": "python3",
      "display_name": "Python 3"
    },
    "language_info": {
      "name": "python"
    }
  },
  "cells": [
    {
      "cell_type": "markdown",
      "metadata": {
        "id": "view-in-github",
        "colab_type": "text"
      },
      "source": [
        "<a href=\"https://colab.research.google.com/github/daniellorieri/Data_Science_E_Analise_de_Dados/blob/main/Churn_Modelo.ipynb\" target=\"_parent\"><img src=\"https://colab.research.google.com/assets/colab-badge.svg\" alt=\"Open In Colab\"/></a>"
      ]
    },
    {
      "cell_type": "markdown",
      "metadata": {
        "id": "xqDclJxzfse7"
      },
      "source": [
        "##Objetivo:\n",
        " Verificar qual modelo é mais preciso para prever se o cliente vai ou não cancelar o serviço. Esse estudo têm como ponto de partida o projeto da Flai, porém neste projeto para fins de estudo eu ultilizo técnica de padronização de dados usando Z-score e utilizado modelosde de Oversampling e UnderSampling para verificar qual a melhor acurácia e determinar o melhor modelo para fazer as previsões."
      ]
    },
    {
      "cell_type": "markdown",
      "metadata": {
        "id": "EBBZijrHgkPP"
      },
      "source": [
        "###Origem dos dados\n",
        " - Dados utilizados a partir so site Kaggle.com "
      ]
    },
    {
      "cell_type": "code",
      "metadata": {
        "id": "4hhFIiNmgjta"
      },
      "source": [
        ""
      ],
      "execution_count": null,
      "outputs": []
    },
    {
      "cell_type": "code",
      "metadata": {
        "id": "1WriYi2Ik68Q"
      },
      "source": [
        "#Importando as biblliotecas\n",
        "import numpy as np\n",
        "import seaborn as sns\n",
        "import pandas as pd\n",
        "from scipy import stats\n",
        "import matplotlib.pyplot as plt\n",
        "from sklearn.ensemble import RandomForestClassifier\n",
        "\n",
        "df = pd.read_csv('/content/drive/My Drive/dataset/Churn_Modelling.csv')"
      ],
      "execution_count": 1,
      "outputs": []
    },
    {
      "cell_type": "code",
      "metadata": {
        "colab": {
          "base_uri": "https://localhost:8080/",
          "height": 204
        },
        "id": "yBw19hyWlQHq",
        "outputId": "feef11c3-5720-40d4-ae91-88b04135bd61"
      },
      "source": [
        "df.head()"
      ],
      "execution_count": 242,
      "outputs": [
        {
          "output_type": "execute_result",
          "data": {
            "text/html": [
              "<div>\n",
              "<style scoped>\n",
              "    .dataframe tbody tr th:only-of-type {\n",
              "        vertical-align: middle;\n",
              "    }\n",
              "\n",
              "    .dataframe tbody tr th {\n",
              "        vertical-align: top;\n",
              "    }\n",
              "\n",
              "    .dataframe thead th {\n",
              "        text-align: right;\n",
              "    }\n",
              "</style>\n",
              "<table border=\"1\" class=\"dataframe\">\n",
              "  <thead>\n",
              "    <tr style=\"text-align: right;\">\n",
              "      <th></th>\n",
              "      <th>CreditScore</th>\n",
              "      <th>Geography</th>\n",
              "      <th>Gender</th>\n",
              "      <th>Age</th>\n",
              "      <th>Tenure</th>\n",
              "      <th>Balance</th>\n",
              "      <th>NumOfProducts</th>\n",
              "      <th>HasCrCard</th>\n",
              "      <th>IsActiveMember</th>\n",
              "      <th>EstimatedSalary</th>\n",
              "      <th>Exited</th>\n",
              "    </tr>\n",
              "  </thead>\n",
              "  <tbody>\n",
              "    <tr>\n",
              "      <th>0</th>\n",
              "      <td>619</td>\n",
              "      <td>France</td>\n",
              "      <td>Female</td>\n",
              "      <td>42</td>\n",
              "      <td>2</td>\n",
              "      <td>0.00</td>\n",
              "      <td>1</td>\n",
              "      <td>1</td>\n",
              "      <td>1</td>\n",
              "      <td>101348.88</td>\n",
              "      <td>1</td>\n",
              "    </tr>\n",
              "    <tr>\n",
              "      <th>1</th>\n",
              "      <td>608</td>\n",
              "      <td>Spain</td>\n",
              "      <td>Female</td>\n",
              "      <td>41</td>\n",
              "      <td>1</td>\n",
              "      <td>83807.86</td>\n",
              "      <td>1</td>\n",
              "      <td>0</td>\n",
              "      <td>1</td>\n",
              "      <td>112542.58</td>\n",
              "      <td>0</td>\n",
              "    </tr>\n",
              "    <tr>\n",
              "      <th>2</th>\n",
              "      <td>502</td>\n",
              "      <td>France</td>\n",
              "      <td>Female</td>\n",
              "      <td>42</td>\n",
              "      <td>8</td>\n",
              "      <td>159660.80</td>\n",
              "      <td>3</td>\n",
              "      <td>1</td>\n",
              "      <td>0</td>\n",
              "      <td>113931.57</td>\n",
              "      <td>1</td>\n",
              "    </tr>\n",
              "    <tr>\n",
              "      <th>3</th>\n",
              "      <td>699</td>\n",
              "      <td>France</td>\n",
              "      <td>Female</td>\n",
              "      <td>39</td>\n",
              "      <td>1</td>\n",
              "      <td>0.00</td>\n",
              "      <td>2</td>\n",
              "      <td>0</td>\n",
              "      <td>0</td>\n",
              "      <td>93826.63</td>\n",
              "      <td>0</td>\n",
              "    </tr>\n",
              "    <tr>\n",
              "      <th>4</th>\n",
              "      <td>850</td>\n",
              "      <td>Spain</td>\n",
              "      <td>Female</td>\n",
              "      <td>43</td>\n",
              "      <td>2</td>\n",
              "      <td>125510.82</td>\n",
              "      <td>1</td>\n",
              "      <td>1</td>\n",
              "      <td>1</td>\n",
              "      <td>79084.10</td>\n",
              "      <td>0</td>\n",
              "    </tr>\n",
              "  </tbody>\n",
              "</table>\n",
              "</div>"
            ],
            "text/plain": [
              "   CreditScore Geography  Gender  ...  IsActiveMember  EstimatedSalary  Exited\n",
              "0          619    France  Female  ...               1        101348.88       1\n",
              "1          608     Spain  Female  ...               1        112542.58       0\n",
              "2          502    France  Female  ...               0        113931.57       1\n",
              "3          699    France  Female  ...               0         93826.63       0\n",
              "4          850     Spain  Female  ...               1         79084.10       0\n",
              "\n",
              "[5 rows x 11 columns]"
            ]
          },
          "metadata": {},
          "execution_count": 242
        }
      ]
    },
    {
      "cell_type": "code",
      "metadata": {
        "id": "nWN-O76flTFH"
      },
      "source": [
        "df2 = df"
      ],
      "execution_count": 243,
      "outputs": []
    },
    {
      "cell_type": "markdown",
      "metadata": {
        "id": "-rRGRiJBnF8J"
      },
      "source": [
        "##Variáveis existentes:\n",
        "- CustomerId: identificação do cliente;\n",
        "- Surname: sobrenome do cliente;\n",
        "- CreditScore: pontuação de credito, 0 alto risco de - inadimplência e 1000 - - clientes com baixo risco de - - - - inadimplência;\n",
        "- Geography: país que o serviço é oferecido;\n",
        "- Gender: sexo do cliente;\n",
        "- Age: idade do cleinte;\n",
        "- Tenure: um indicativo de estabilidade no emprego, em que -0 significa pouca - estabilidade e 10 muita estabilidade.\n",
        "- Balance: saldo da conta corrente;\n",
        "- NumOfProducts: número de produtos bancários adquiridos;\n",
        "- HasCrCard: se tem cartão de credito ou não, (Sim = 1 e -Não = 0);\n",
        "- IsActiveMember: se é um cliente com conta ativa, (Ativo -= 1) ;\n",
        "- EstimatedSalary: salário estimado;\n",
        "- Exited: cliente deixou de ser cliente do banco ou não --(Churn = 1)."
      ]
    },
    {
      "cell_type": "markdown",
      "metadata": {
        "id": "kWEczrBBnrfJ"
      },
      "source": [
        "##Pré-Processamento\n",
        "\n",
        "- Eliminar as variáveis que não serão utilizadas;\n",
        "- Identificação de dados missing;\n",
        "- Separação das variáveis categóricas, numéricas e resposta;\n",
        "- Processamento variáveis categóricas;\n",
        "- Processamento variáveis numéricas."
      ]
    },
    {
      "cell_type": "markdown",
      "metadata": {
        "id": "8Yl9pj6YoQY3"
      },
      "source": [
        "###Eliminação de varíavies que não serão utilizadas\n",
        "\n",
        " - Existem algumas varáveis que não trazem informações relevantes para entender o Churn, como Customerid e RowNumber, Surname."
      ]
    },
    {
      "cell_type": "code",
      "metadata": {
        "id": "gOjBQgjHnJkJ"
      },
      "source": [
        "df1 = df.drop(columns = ['RowNumber','CustomerId', 'Surname'])"
      ],
      "execution_count": 3,
      "outputs": []
    },
    {
      "cell_type": "code",
      "metadata": {
        "colab": {
          "base_uri": "https://localhost:8080/",
          "height": 419
        },
        "id": "--H9UFJxo_Y4",
        "outputId": "98c12224-55aa-4a43-a577-4abd696a71e7"
      },
      "source": [
        "df1"
      ],
      "execution_count": 4,
      "outputs": [
        {
          "output_type": "execute_result",
          "data": {
            "text/html": [
              "<div>\n",
              "<style scoped>\n",
              "    .dataframe tbody tr th:only-of-type {\n",
              "        vertical-align: middle;\n",
              "    }\n",
              "\n",
              "    .dataframe tbody tr th {\n",
              "        vertical-align: top;\n",
              "    }\n",
              "\n",
              "    .dataframe thead th {\n",
              "        text-align: right;\n",
              "    }\n",
              "</style>\n",
              "<table border=\"1\" class=\"dataframe\">\n",
              "  <thead>\n",
              "    <tr style=\"text-align: right;\">\n",
              "      <th></th>\n",
              "      <th>CreditScore</th>\n",
              "      <th>Geography</th>\n",
              "      <th>Gender</th>\n",
              "      <th>Age</th>\n",
              "      <th>Tenure</th>\n",
              "      <th>Balance</th>\n",
              "      <th>NumOfProducts</th>\n",
              "      <th>HasCrCard</th>\n",
              "      <th>IsActiveMember</th>\n",
              "      <th>EstimatedSalary</th>\n",
              "      <th>Exited</th>\n",
              "    </tr>\n",
              "  </thead>\n",
              "  <tbody>\n",
              "    <tr>\n",
              "      <th>0</th>\n",
              "      <td>619</td>\n",
              "      <td>France</td>\n",
              "      <td>Female</td>\n",
              "      <td>42</td>\n",
              "      <td>2</td>\n",
              "      <td>0.00</td>\n",
              "      <td>1</td>\n",
              "      <td>1</td>\n",
              "      <td>1</td>\n",
              "      <td>101348.88</td>\n",
              "      <td>1</td>\n",
              "    </tr>\n",
              "    <tr>\n",
              "      <th>1</th>\n",
              "      <td>608</td>\n",
              "      <td>Spain</td>\n",
              "      <td>Female</td>\n",
              "      <td>41</td>\n",
              "      <td>1</td>\n",
              "      <td>83807.86</td>\n",
              "      <td>1</td>\n",
              "      <td>0</td>\n",
              "      <td>1</td>\n",
              "      <td>112542.58</td>\n",
              "      <td>0</td>\n",
              "    </tr>\n",
              "    <tr>\n",
              "      <th>2</th>\n",
              "      <td>502</td>\n",
              "      <td>France</td>\n",
              "      <td>Female</td>\n",
              "      <td>42</td>\n",
              "      <td>8</td>\n",
              "      <td>159660.80</td>\n",
              "      <td>3</td>\n",
              "      <td>1</td>\n",
              "      <td>0</td>\n",
              "      <td>113931.57</td>\n",
              "      <td>1</td>\n",
              "    </tr>\n",
              "    <tr>\n",
              "      <th>3</th>\n",
              "      <td>699</td>\n",
              "      <td>France</td>\n",
              "      <td>Female</td>\n",
              "      <td>39</td>\n",
              "      <td>1</td>\n",
              "      <td>0.00</td>\n",
              "      <td>2</td>\n",
              "      <td>0</td>\n",
              "      <td>0</td>\n",
              "      <td>93826.63</td>\n",
              "      <td>0</td>\n",
              "    </tr>\n",
              "    <tr>\n",
              "      <th>4</th>\n",
              "      <td>850</td>\n",
              "      <td>Spain</td>\n",
              "      <td>Female</td>\n",
              "      <td>43</td>\n",
              "      <td>2</td>\n",
              "      <td>125510.82</td>\n",
              "      <td>1</td>\n",
              "      <td>1</td>\n",
              "      <td>1</td>\n",
              "      <td>79084.10</td>\n",
              "      <td>0</td>\n",
              "    </tr>\n",
              "    <tr>\n",
              "      <th>...</th>\n",
              "      <td>...</td>\n",
              "      <td>...</td>\n",
              "      <td>...</td>\n",
              "      <td>...</td>\n",
              "      <td>...</td>\n",
              "      <td>...</td>\n",
              "      <td>...</td>\n",
              "      <td>...</td>\n",
              "      <td>...</td>\n",
              "      <td>...</td>\n",
              "      <td>...</td>\n",
              "    </tr>\n",
              "    <tr>\n",
              "      <th>9995</th>\n",
              "      <td>771</td>\n",
              "      <td>France</td>\n",
              "      <td>Male</td>\n",
              "      <td>39</td>\n",
              "      <td>5</td>\n",
              "      <td>0.00</td>\n",
              "      <td>2</td>\n",
              "      <td>1</td>\n",
              "      <td>0</td>\n",
              "      <td>96270.64</td>\n",
              "      <td>0</td>\n",
              "    </tr>\n",
              "    <tr>\n",
              "      <th>9996</th>\n",
              "      <td>516</td>\n",
              "      <td>France</td>\n",
              "      <td>Male</td>\n",
              "      <td>35</td>\n",
              "      <td>10</td>\n",
              "      <td>57369.61</td>\n",
              "      <td>1</td>\n",
              "      <td>1</td>\n",
              "      <td>1</td>\n",
              "      <td>101699.77</td>\n",
              "      <td>0</td>\n",
              "    </tr>\n",
              "    <tr>\n",
              "      <th>9997</th>\n",
              "      <td>709</td>\n",
              "      <td>France</td>\n",
              "      <td>Female</td>\n",
              "      <td>36</td>\n",
              "      <td>7</td>\n",
              "      <td>0.00</td>\n",
              "      <td>1</td>\n",
              "      <td>0</td>\n",
              "      <td>1</td>\n",
              "      <td>42085.58</td>\n",
              "      <td>1</td>\n",
              "    </tr>\n",
              "    <tr>\n",
              "      <th>9998</th>\n",
              "      <td>772</td>\n",
              "      <td>Germany</td>\n",
              "      <td>Male</td>\n",
              "      <td>42</td>\n",
              "      <td>3</td>\n",
              "      <td>75075.31</td>\n",
              "      <td>2</td>\n",
              "      <td>1</td>\n",
              "      <td>0</td>\n",
              "      <td>92888.52</td>\n",
              "      <td>1</td>\n",
              "    </tr>\n",
              "    <tr>\n",
              "      <th>9999</th>\n",
              "      <td>792</td>\n",
              "      <td>France</td>\n",
              "      <td>Female</td>\n",
              "      <td>28</td>\n",
              "      <td>4</td>\n",
              "      <td>130142.79</td>\n",
              "      <td>1</td>\n",
              "      <td>1</td>\n",
              "      <td>0</td>\n",
              "      <td>38190.78</td>\n",
              "      <td>0</td>\n",
              "    </tr>\n",
              "  </tbody>\n",
              "</table>\n",
              "<p>10000 rows × 11 columns</p>\n",
              "</div>"
            ],
            "text/plain": [
              "      CreditScore Geography  Gender  ...  IsActiveMember  EstimatedSalary  Exited\n",
              "0             619    France  Female  ...               1        101348.88       1\n",
              "1             608     Spain  Female  ...               1        112542.58       0\n",
              "2             502    France  Female  ...               0        113931.57       1\n",
              "3             699    France  Female  ...               0         93826.63       0\n",
              "4             850     Spain  Female  ...               1         79084.10       0\n",
              "...           ...       ...     ...  ...             ...              ...     ...\n",
              "9995          771    France    Male  ...               0         96270.64       0\n",
              "9996          516    France    Male  ...               1        101699.77       0\n",
              "9997          709    France  Female  ...               1         42085.58       1\n",
              "9998          772   Germany    Male  ...               0         92888.52       1\n",
              "9999          792    France  Female  ...               0         38190.78       0\n",
              "\n",
              "[10000 rows x 11 columns]"
            ]
          },
          "metadata": {},
          "execution_count": 4
        }
      ]
    },
    {
      "cell_type": "code",
      "metadata": {
        "id": "1rLe2VimpAxA"
      },
      "source": [
        ""
      ],
      "execution_count": null,
      "outputs": []
    },
    {
      "cell_type": "markdown",
      "metadata": {
        "id": "77wsHpvppJOP"
      },
      "source": [
        "###Identificar valores faltantes(missing)"
      ]
    },
    {
      "cell_type": "code",
      "metadata": {
        "colab": {
          "base_uri": "https://localhost:8080/"
        },
        "id": "BzotjIpJpNuB",
        "outputId": "ced198b6-81fc-48e9-c721-e2b41a5fa42e"
      },
      "source": [
        "df.isnull().sum()"
      ],
      "execution_count": 5,
      "outputs": [
        {
          "output_type": "execute_result",
          "data": {
            "text/plain": [
              "RowNumber          0\n",
              "CustomerId         0\n",
              "Surname            0\n",
              "CreditScore        0\n",
              "Geography          0\n",
              "Gender             0\n",
              "Age                0\n",
              "Tenure             0\n",
              "Balance            0\n",
              "NumOfProducts      0\n",
              "HasCrCard          0\n",
              "IsActiveMember     0\n",
              "EstimatedSalary    0\n",
              "Exited             0\n",
              "dtype: int64"
            ]
          },
          "metadata": {},
          "execution_count": 5
        }
      ]
    },
    {
      "cell_type": "code",
      "metadata": {
        "colab": {
          "base_uri": "https://localhost:8080/",
          "height": 49
        },
        "id": "1x_i-OnqpSS_",
        "outputId": "99cffc8c-f2f5-4297-a25a-f3b1d56b5590"
      },
      "source": [
        "#Exibe a quantidade de valore faltantes e usa respectiva porcentagem.\n",
        "total = df.isnull().sum().sort_values(ascending=False)\n",
        "percent = df.isnull().sum() / df.isnull().count().sort_values(ascending=False)\n",
        "missing_data = pd.concat([total, percent], axis=1, sort=False, keys=['total', 'percent'])\n",
        "missing_data[missing_data['percent'] != 0] *100"
      ],
      "execution_count": 6,
      "outputs": [
        {
          "output_type": "execute_result",
          "data": {
            "text/html": [
              "<div>\n",
              "<style scoped>\n",
              "    .dataframe tbody tr th:only-of-type {\n",
              "        vertical-align: middle;\n",
              "    }\n",
              "\n",
              "    .dataframe tbody tr th {\n",
              "        vertical-align: top;\n",
              "    }\n",
              "\n",
              "    .dataframe thead th {\n",
              "        text-align: right;\n",
              "    }\n",
              "</style>\n",
              "<table border=\"1\" class=\"dataframe\">\n",
              "  <thead>\n",
              "    <tr style=\"text-align: right;\">\n",
              "      <th></th>\n",
              "      <th>total</th>\n",
              "      <th>percent</th>\n",
              "    </tr>\n",
              "  </thead>\n",
              "  <tbody>\n",
              "  </tbody>\n",
              "</table>\n",
              "</div>"
            ],
            "text/plain": [
              "Empty DataFrame\n",
              "Columns: [total, percent]\n",
              "Index: []"
            ]
          },
          "metadata": {},
          "execution_count": 6
        }
      ]
    },
    {
      "cell_type": "markdown",
      "metadata": {
        "id": "jP-tjOOipUt3"
      },
      "source": [
        "- As varáveis não possuem dados faltantes."
      ]
    },
    {
      "cell_type": "markdown",
      "metadata": {
        "id": "yNEYGqwYTO6C"
      },
      "source": [
        "###Separando as variáveis categóricas das variáveis numéricas."
      ]
    },
    {
      "cell_type": "code",
      "metadata": {
        "colab": {
          "base_uri": "https://localhost:8080/",
          "height": 419
        },
        "id": "Xp8Mbkao8Pxw",
        "outputId": "0a3ee73f-4651-4b80-a6c8-763625e3642f"
      },
      "source": [
        "#Criando variaveis independentes e dependentes\n",
        "y = df1['Exited']\n",
        "X = df1\n",
        "X = df1.drop('Exited',axis = 1)\n",
        "X"
      ],
      "execution_count": 7,
      "outputs": [
        {
          "output_type": "execute_result",
          "data": {
            "text/html": [
              "<div>\n",
              "<style scoped>\n",
              "    .dataframe tbody tr th:only-of-type {\n",
              "        vertical-align: middle;\n",
              "    }\n",
              "\n",
              "    .dataframe tbody tr th {\n",
              "        vertical-align: top;\n",
              "    }\n",
              "\n",
              "    .dataframe thead th {\n",
              "        text-align: right;\n",
              "    }\n",
              "</style>\n",
              "<table border=\"1\" class=\"dataframe\">\n",
              "  <thead>\n",
              "    <tr style=\"text-align: right;\">\n",
              "      <th></th>\n",
              "      <th>CreditScore</th>\n",
              "      <th>Geography</th>\n",
              "      <th>Gender</th>\n",
              "      <th>Age</th>\n",
              "      <th>Tenure</th>\n",
              "      <th>Balance</th>\n",
              "      <th>NumOfProducts</th>\n",
              "      <th>HasCrCard</th>\n",
              "      <th>IsActiveMember</th>\n",
              "      <th>EstimatedSalary</th>\n",
              "    </tr>\n",
              "  </thead>\n",
              "  <tbody>\n",
              "    <tr>\n",
              "      <th>0</th>\n",
              "      <td>619</td>\n",
              "      <td>France</td>\n",
              "      <td>Female</td>\n",
              "      <td>42</td>\n",
              "      <td>2</td>\n",
              "      <td>0.00</td>\n",
              "      <td>1</td>\n",
              "      <td>1</td>\n",
              "      <td>1</td>\n",
              "      <td>101348.88</td>\n",
              "    </tr>\n",
              "    <tr>\n",
              "      <th>1</th>\n",
              "      <td>608</td>\n",
              "      <td>Spain</td>\n",
              "      <td>Female</td>\n",
              "      <td>41</td>\n",
              "      <td>1</td>\n",
              "      <td>83807.86</td>\n",
              "      <td>1</td>\n",
              "      <td>0</td>\n",
              "      <td>1</td>\n",
              "      <td>112542.58</td>\n",
              "    </tr>\n",
              "    <tr>\n",
              "      <th>2</th>\n",
              "      <td>502</td>\n",
              "      <td>France</td>\n",
              "      <td>Female</td>\n",
              "      <td>42</td>\n",
              "      <td>8</td>\n",
              "      <td>159660.80</td>\n",
              "      <td>3</td>\n",
              "      <td>1</td>\n",
              "      <td>0</td>\n",
              "      <td>113931.57</td>\n",
              "    </tr>\n",
              "    <tr>\n",
              "      <th>3</th>\n",
              "      <td>699</td>\n",
              "      <td>France</td>\n",
              "      <td>Female</td>\n",
              "      <td>39</td>\n",
              "      <td>1</td>\n",
              "      <td>0.00</td>\n",
              "      <td>2</td>\n",
              "      <td>0</td>\n",
              "      <td>0</td>\n",
              "      <td>93826.63</td>\n",
              "    </tr>\n",
              "    <tr>\n",
              "      <th>4</th>\n",
              "      <td>850</td>\n",
              "      <td>Spain</td>\n",
              "      <td>Female</td>\n",
              "      <td>43</td>\n",
              "      <td>2</td>\n",
              "      <td>125510.82</td>\n",
              "      <td>1</td>\n",
              "      <td>1</td>\n",
              "      <td>1</td>\n",
              "      <td>79084.10</td>\n",
              "    </tr>\n",
              "    <tr>\n",
              "      <th>...</th>\n",
              "      <td>...</td>\n",
              "      <td>...</td>\n",
              "      <td>...</td>\n",
              "      <td>...</td>\n",
              "      <td>...</td>\n",
              "      <td>...</td>\n",
              "      <td>...</td>\n",
              "      <td>...</td>\n",
              "      <td>...</td>\n",
              "      <td>...</td>\n",
              "    </tr>\n",
              "    <tr>\n",
              "      <th>9995</th>\n",
              "      <td>771</td>\n",
              "      <td>France</td>\n",
              "      <td>Male</td>\n",
              "      <td>39</td>\n",
              "      <td>5</td>\n",
              "      <td>0.00</td>\n",
              "      <td>2</td>\n",
              "      <td>1</td>\n",
              "      <td>0</td>\n",
              "      <td>96270.64</td>\n",
              "    </tr>\n",
              "    <tr>\n",
              "      <th>9996</th>\n",
              "      <td>516</td>\n",
              "      <td>France</td>\n",
              "      <td>Male</td>\n",
              "      <td>35</td>\n",
              "      <td>10</td>\n",
              "      <td>57369.61</td>\n",
              "      <td>1</td>\n",
              "      <td>1</td>\n",
              "      <td>1</td>\n",
              "      <td>101699.77</td>\n",
              "    </tr>\n",
              "    <tr>\n",
              "      <th>9997</th>\n",
              "      <td>709</td>\n",
              "      <td>France</td>\n",
              "      <td>Female</td>\n",
              "      <td>36</td>\n",
              "      <td>7</td>\n",
              "      <td>0.00</td>\n",
              "      <td>1</td>\n",
              "      <td>0</td>\n",
              "      <td>1</td>\n",
              "      <td>42085.58</td>\n",
              "    </tr>\n",
              "    <tr>\n",
              "      <th>9998</th>\n",
              "      <td>772</td>\n",
              "      <td>Germany</td>\n",
              "      <td>Male</td>\n",
              "      <td>42</td>\n",
              "      <td>3</td>\n",
              "      <td>75075.31</td>\n",
              "      <td>2</td>\n",
              "      <td>1</td>\n",
              "      <td>0</td>\n",
              "      <td>92888.52</td>\n",
              "    </tr>\n",
              "    <tr>\n",
              "      <th>9999</th>\n",
              "      <td>792</td>\n",
              "      <td>France</td>\n",
              "      <td>Female</td>\n",
              "      <td>28</td>\n",
              "      <td>4</td>\n",
              "      <td>130142.79</td>\n",
              "      <td>1</td>\n",
              "      <td>1</td>\n",
              "      <td>0</td>\n",
              "      <td>38190.78</td>\n",
              "    </tr>\n",
              "  </tbody>\n",
              "</table>\n",
              "<p>10000 rows × 10 columns</p>\n",
              "</div>"
            ],
            "text/plain": [
              "      CreditScore Geography  Gender  ...  HasCrCard  IsActiveMember  EstimatedSalary\n",
              "0             619    France  Female  ...          1               1        101348.88\n",
              "1             608     Spain  Female  ...          0               1        112542.58\n",
              "2             502    France  Female  ...          1               0        113931.57\n",
              "3             699    France  Female  ...          0               0         93826.63\n",
              "4             850     Spain  Female  ...          1               1         79084.10\n",
              "...           ...       ...     ...  ...        ...             ...              ...\n",
              "9995          771    France    Male  ...          1               0         96270.64\n",
              "9996          516    France    Male  ...          1               1        101699.77\n",
              "9997          709    France  Female  ...          0               1         42085.58\n",
              "9998          772   Germany    Male  ...          1               0         92888.52\n",
              "9999          792    France  Female  ...          1               0         38190.78\n",
              "\n",
              "[10000 rows x 10 columns]"
            ]
          },
          "metadata": {},
          "execution_count": 7
        }
      ]
    },
    {
      "cell_type": "code",
      "metadata": {
        "colab": {
          "base_uri": "https://localhost:8080/"
        },
        "id": "YQfLA-415Lww",
        "outputId": "16153560-2ab2-4f63-ca60-3b5a2220facd"
      },
      "source": [
        "#Varáveis Continuas\n",
        "cont=['CreditScore','Balance','Age','EstimatedSalary','Tenure']\n",
        "cont\n"
      ],
      "execution_count": 8,
      "outputs": [
        {
          "output_type": "execute_result",
          "data": {
            "text/plain": [
              "['CreditScore', 'Balance', 'Age', 'EstimatedSalary', 'Tenure']"
            ]
          },
          "metadata": {},
          "execution_count": 8
        }
      ]
    },
    {
      "cell_type": "code",
      "metadata": {
        "colab": {
          "base_uri": "https://localhost:8080/"
        },
        "id": "nSJ07tpT5TCH",
        "outputId": "1fe6fec2-ea6d-4e46-8b90-edc477056ca0"
      },
      "source": [
        "#Varáveis Categoricas\n",
        "cat = list(set(X)-set(cont))\n",
        "cat\n"
      ],
      "execution_count": 9,
      "outputs": [
        {
          "output_type": "execute_result",
          "data": {
            "text/plain": [
              "['Gender', 'NumOfProducts', 'HasCrCard', 'Geography', 'IsActiveMember']"
            ]
          },
          "metadata": {},
          "execution_count": 9
        }
      ]
    },
    {
      "cell_type": "code",
      "metadata": {
        "colab": {
          "base_uri": "https://localhost:8080/",
          "height": 669
        },
        "id": "KoUIWZdFkpB8",
        "outputId": "f3930ce1-b044-43da-ebd9-14a2438ba6b4"
      },
      "source": [
        "#df1 = df.drop(columns = ['RowNumber','CustomerId', 'Surname'])\n",
        "#df1.head()\n",
        "\n",
        "def remove_features(lista_features):\n",
        "    for i in lista_features:\n",
        "        df.drop(i, axis=1, inplace=True)\n",
        "remove_features(['RowNumber','CustomerId','Surname'])\n",
        "df.head(n=20)"
      ],
      "execution_count": 10,
      "outputs": [
        {
          "output_type": "execute_result",
          "data": {
            "text/html": [
              "<div>\n",
              "<style scoped>\n",
              "    .dataframe tbody tr th:only-of-type {\n",
              "        vertical-align: middle;\n",
              "    }\n",
              "\n",
              "    .dataframe tbody tr th {\n",
              "        vertical-align: top;\n",
              "    }\n",
              "\n",
              "    .dataframe thead th {\n",
              "        text-align: right;\n",
              "    }\n",
              "</style>\n",
              "<table border=\"1\" class=\"dataframe\">\n",
              "  <thead>\n",
              "    <tr style=\"text-align: right;\">\n",
              "      <th></th>\n",
              "      <th>CreditScore</th>\n",
              "      <th>Geography</th>\n",
              "      <th>Gender</th>\n",
              "      <th>Age</th>\n",
              "      <th>Tenure</th>\n",
              "      <th>Balance</th>\n",
              "      <th>NumOfProducts</th>\n",
              "      <th>HasCrCard</th>\n",
              "      <th>IsActiveMember</th>\n",
              "      <th>EstimatedSalary</th>\n",
              "      <th>Exited</th>\n",
              "    </tr>\n",
              "  </thead>\n",
              "  <tbody>\n",
              "    <tr>\n",
              "      <th>0</th>\n",
              "      <td>619</td>\n",
              "      <td>France</td>\n",
              "      <td>Female</td>\n",
              "      <td>42</td>\n",
              "      <td>2</td>\n",
              "      <td>0.00</td>\n",
              "      <td>1</td>\n",
              "      <td>1</td>\n",
              "      <td>1</td>\n",
              "      <td>101348.88</td>\n",
              "      <td>1</td>\n",
              "    </tr>\n",
              "    <tr>\n",
              "      <th>1</th>\n",
              "      <td>608</td>\n",
              "      <td>Spain</td>\n",
              "      <td>Female</td>\n",
              "      <td>41</td>\n",
              "      <td>1</td>\n",
              "      <td>83807.86</td>\n",
              "      <td>1</td>\n",
              "      <td>0</td>\n",
              "      <td>1</td>\n",
              "      <td>112542.58</td>\n",
              "      <td>0</td>\n",
              "    </tr>\n",
              "    <tr>\n",
              "      <th>2</th>\n",
              "      <td>502</td>\n",
              "      <td>France</td>\n",
              "      <td>Female</td>\n",
              "      <td>42</td>\n",
              "      <td>8</td>\n",
              "      <td>159660.80</td>\n",
              "      <td>3</td>\n",
              "      <td>1</td>\n",
              "      <td>0</td>\n",
              "      <td>113931.57</td>\n",
              "      <td>1</td>\n",
              "    </tr>\n",
              "    <tr>\n",
              "      <th>3</th>\n",
              "      <td>699</td>\n",
              "      <td>France</td>\n",
              "      <td>Female</td>\n",
              "      <td>39</td>\n",
              "      <td>1</td>\n",
              "      <td>0.00</td>\n",
              "      <td>2</td>\n",
              "      <td>0</td>\n",
              "      <td>0</td>\n",
              "      <td>93826.63</td>\n",
              "      <td>0</td>\n",
              "    </tr>\n",
              "    <tr>\n",
              "      <th>4</th>\n",
              "      <td>850</td>\n",
              "      <td>Spain</td>\n",
              "      <td>Female</td>\n",
              "      <td>43</td>\n",
              "      <td>2</td>\n",
              "      <td>125510.82</td>\n",
              "      <td>1</td>\n",
              "      <td>1</td>\n",
              "      <td>1</td>\n",
              "      <td>79084.10</td>\n",
              "      <td>0</td>\n",
              "    </tr>\n",
              "    <tr>\n",
              "      <th>5</th>\n",
              "      <td>645</td>\n",
              "      <td>Spain</td>\n",
              "      <td>Male</td>\n",
              "      <td>44</td>\n",
              "      <td>8</td>\n",
              "      <td>113755.78</td>\n",
              "      <td>2</td>\n",
              "      <td>1</td>\n",
              "      <td>0</td>\n",
              "      <td>149756.71</td>\n",
              "      <td>1</td>\n",
              "    </tr>\n",
              "    <tr>\n",
              "      <th>6</th>\n",
              "      <td>822</td>\n",
              "      <td>France</td>\n",
              "      <td>Male</td>\n",
              "      <td>50</td>\n",
              "      <td>7</td>\n",
              "      <td>0.00</td>\n",
              "      <td>2</td>\n",
              "      <td>1</td>\n",
              "      <td>1</td>\n",
              "      <td>10062.80</td>\n",
              "      <td>0</td>\n",
              "    </tr>\n",
              "    <tr>\n",
              "      <th>7</th>\n",
              "      <td>376</td>\n",
              "      <td>Germany</td>\n",
              "      <td>Female</td>\n",
              "      <td>29</td>\n",
              "      <td>4</td>\n",
              "      <td>115046.74</td>\n",
              "      <td>4</td>\n",
              "      <td>1</td>\n",
              "      <td>0</td>\n",
              "      <td>119346.88</td>\n",
              "      <td>1</td>\n",
              "    </tr>\n",
              "    <tr>\n",
              "      <th>8</th>\n",
              "      <td>501</td>\n",
              "      <td>France</td>\n",
              "      <td>Male</td>\n",
              "      <td>44</td>\n",
              "      <td>4</td>\n",
              "      <td>142051.07</td>\n",
              "      <td>2</td>\n",
              "      <td>0</td>\n",
              "      <td>1</td>\n",
              "      <td>74940.50</td>\n",
              "      <td>0</td>\n",
              "    </tr>\n",
              "    <tr>\n",
              "      <th>9</th>\n",
              "      <td>684</td>\n",
              "      <td>France</td>\n",
              "      <td>Male</td>\n",
              "      <td>27</td>\n",
              "      <td>2</td>\n",
              "      <td>134603.88</td>\n",
              "      <td>1</td>\n",
              "      <td>1</td>\n",
              "      <td>1</td>\n",
              "      <td>71725.73</td>\n",
              "      <td>0</td>\n",
              "    </tr>\n",
              "    <tr>\n",
              "      <th>10</th>\n",
              "      <td>528</td>\n",
              "      <td>France</td>\n",
              "      <td>Male</td>\n",
              "      <td>31</td>\n",
              "      <td>6</td>\n",
              "      <td>102016.72</td>\n",
              "      <td>2</td>\n",
              "      <td>0</td>\n",
              "      <td>0</td>\n",
              "      <td>80181.12</td>\n",
              "      <td>0</td>\n",
              "    </tr>\n",
              "    <tr>\n",
              "      <th>11</th>\n",
              "      <td>497</td>\n",
              "      <td>Spain</td>\n",
              "      <td>Male</td>\n",
              "      <td>24</td>\n",
              "      <td>3</td>\n",
              "      <td>0.00</td>\n",
              "      <td>2</td>\n",
              "      <td>1</td>\n",
              "      <td>0</td>\n",
              "      <td>76390.01</td>\n",
              "      <td>0</td>\n",
              "    </tr>\n",
              "    <tr>\n",
              "      <th>12</th>\n",
              "      <td>476</td>\n",
              "      <td>France</td>\n",
              "      <td>Female</td>\n",
              "      <td>34</td>\n",
              "      <td>10</td>\n",
              "      <td>0.00</td>\n",
              "      <td>2</td>\n",
              "      <td>1</td>\n",
              "      <td>0</td>\n",
              "      <td>26260.98</td>\n",
              "      <td>0</td>\n",
              "    </tr>\n",
              "    <tr>\n",
              "      <th>13</th>\n",
              "      <td>549</td>\n",
              "      <td>France</td>\n",
              "      <td>Female</td>\n",
              "      <td>25</td>\n",
              "      <td>5</td>\n",
              "      <td>0.00</td>\n",
              "      <td>2</td>\n",
              "      <td>0</td>\n",
              "      <td>0</td>\n",
              "      <td>190857.79</td>\n",
              "      <td>0</td>\n",
              "    </tr>\n",
              "    <tr>\n",
              "      <th>14</th>\n",
              "      <td>635</td>\n",
              "      <td>Spain</td>\n",
              "      <td>Female</td>\n",
              "      <td>35</td>\n",
              "      <td>7</td>\n",
              "      <td>0.00</td>\n",
              "      <td>2</td>\n",
              "      <td>1</td>\n",
              "      <td>1</td>\n",
              "      <td>65951.65</td>\n",
              "      <td>0</td>\n",
              "    </tr>\n",
              "    <tr>\n",
              "      <th>15</th>\n",
              "      <td>616</td>\n",
              "      <td>Germany</td>\n",
              "      <td>Male</td>\n",
              "      <td>45</td>\n",
              "      <td>3</td>\n",
              "      <td>143129.41</td>\n",
              "      <td>2</td>\n",
              "      <td>0</td>\n",
              "      <td>1</td>\n",
              "      <td>64327.26</td>\n",
              "      <td>0</td>\n",
              "    </tr>\n",
              "    <tr>\n",
              "      <th>16</th>\n",
              "      <td>653</td>\n",
              "      <td>Germany</td>\n",
              "      <td>Male</td>\n",
              "      <td>58</td>\n",
              "      <td>1</td>\n",
              "      <td>132602.88</td>\n",
              "      <td>1</td>\n",
              "      <td>1</td>\n",
              "      <td>0</td>\n",
              "      <td>5097.67</td>\n",
              "      <td>1</td>\n",
              "    </tr>\n",
              "    <tr>\n",
              "      <th>17</th>\n",
              "      <td>549</td>\n",
              "      <td>Spain</td>\n",
              "      <td>Female</td>\n",
              "      <td>24</td>\n",
              "      <td>9</td>\n",
              "      <td>0.00</td>\n",
              "      <td>2</td>\n",
              "      <td>1</td>\n",
              "      <td>1</td>\n",
              "      <td>14406.41</td>\n",
              "      <td>0</td>\n",
              "    </tr>\n",
              "    <tr>\n",
              "      <th>18</th>\n",
              "      <td>587</td>\n",
              "      <td>Spain</td>\n",
              "      <td>Male</td>\n",
              "      <td>45</td>\n",
              "      <td>6</td>\n",
              "      <td>0.00</td>\n",
              "      <td>1</td>\n",
              "      <td>0</td>\n",
              "      <td>0</td>\n",
              "      <td>158684.81</td>\n",
              "      <td>0</td>\n",
              "    </tr>\n",
              "    <tr>\n",
              "      <th>19</th>\n",
              "      <td>726</td>\n",
              "      <td>France</td>\n",
              "      <td>Female</td>\n",
              "      <td>24</td>\n",
              "      <td>6</td>\n",
              "      <td>0.00</td>\n",
              "      <td>2</td>\n",
              "      <td>1</td>\n",
              "      <td>1</td>\n",
              "      <td>54724.03</td>\n",
              "      <td>0</td>\n",
              "    </tr>\n",
              "  </tbody>\n",
              "</table>\n",
              "</div>"
            ],
            "text/plain": [
              "    CreditScore Geography  Gender  ...  IsActiveMember  EstimatedSalary  Exited\n",
              "0           619    France  Female  ...               1        101348.88       1\n",
              "1           608     Spain  Female  ...               1        112542.58       0\n",
              "2           502    France  Female  ...               0        113931.57       1\n",
              "3           699    France  Female  ...               0         93826.63       0\n",
              "4           850     Spain  Female  ...               1         79084.10       0\n",
              "5           645     Spain    Male  ...               0        149756.71       1\n",
              "6           822    France    Male  ...               1         10062.80       0\n",
              "7           376   Germany  Female  ...               0        119346.88       1\n",
              "8           501    France    Male  ...               1         74940.50       0\n",
              "9           684    France    Male  ...               1         71725.73       0\n",
              "10          528    France    Male  ...               0         80181.12       0\n",
              "11          497     Spain    Male  ...               0         76390.01       0\n",
              "12          476    France  Female  ...               0         26260.98       0\n",
              "13          549    France  Female  ...               0        190857.79       0\n",
              "14          635     Spain  Female  ...               1         65951.65       0\n",
              "15          616   Germany    Male  ...               1         64327.26       0\n",
              "16          653   Germany    Male  ...               0          5097.67       1\n",
              "17          549     Spain  Female  ...               1         14406.41       0\n",
              "18          587     Spain    Male  ...               0        158684.81       0\n",
              "19          726    France  Female  ...               1         54724.03       0\n",
              "\n",
              "[20 rows x 11 columns]"
            ]
          },
          "metadata": {},
          "execution_count": 10
        }
      ]
    },
    {
      "cell_type": "markdown",
      "metadata": {
        "id": "3Ufw68bz28mI"
      },
      "source": [
        "###Transformando as varáveis categóricas em numéricas.\n",
        " - Alguns algoritmos de ML não entendem variáveis categóricas, se tratando disso devemos fazer a conversão.\n",
        " - Para varáveis categóricas com mais de dua classes utilizamos o método get_dummies()\n",
        "  - Para variávies categoricas com até 2 Classes ultilizamos o método enconder."
      ]
    },
    {
      "cell_type": "code",
      "metadata": {
        "colab": {
          "base_uri": "https://localhost:8080/",
          "height": 204
        },
        "id": "Nb6Bk_fgw_zp",
        "outputId": "a1c962fe-4fad-4fa5-fc79-1be6b9b934e9"
      },
      "source": [
        "#Aplicando métido get dummy varávies com mais de 2 classes.\n",
        "X_final = pd.get_dummies(data= X, columns=['Geography','NumOfProducts'], drop_first=True)\n",
        "X_final.head()\n"
      ],
      "execution_count": 16,
      "outputs": [
        {
          "output_type": "execute_result",
          "data": {
            "text/html": [
              "<div>\n",
              "<style scoped>\n",
              "    .dataframe tbody tr th:only-of-type {\n",
              "        vertical-align: middle;\n",
              "    }\n",
              "\n",
              "    .dataframe tbody tr th {\n",
              "        vertical-align: top;\n",
              "    }\n",
              "\n",
              "    .dataframe thead th {\n",
              "        text-align: right;\n",
              "    }\n",
              "</style>\n",
              "<table border=\"1\" class=\"dataframe\">\n",
              "  <thead>\n",
              "    <tr style=\"text-align: right;\">\n",
              "      <th></th>\n",
              "      <th>CreditScore</th>\n",
              "      <th>Gender</th>\n",
              "      <th>Age</th>\n",
              "      <th>Tenure</th>\n",
              "      <th>Balance</th>\n",
              "      <th>HasCrCard</th>\n",
              "      <th>IsActiveMember</th>\n",
              "      <th>EstimatedSalary</th>\n",
              "      <th>Geography_Germany</th>\n",
              "      <th>Geography_Spain</th>\n",
              "      <th>NumOfProducts_2</th>\n",
              "      <th>NumOfProducts_3</th>\n",
              "      <th>NumOfProducts_4</th>\n",
              "    </tr>\n",
              "  </thead>\n",
              "  <tbody>\n",
              "    <tr>\n",
              "      <th>0</th>\n",
              "      <td>619</td>\n",
              "      <td>0</td>\n",
              "      <td>42</td>\n",
              "      <td>2</td>\n",
              "      <td>0.00</td>\n",
              "      <td>1</td>\n",
              "      <td>1</td>\n",
              "      <td>101348.88</td>\n",
              "      <td>0</td>\n",
              "      <td>0</td>\n",
              "      <td>0</td>\n",
              "      <td>0</td>\n",
              "      <td>0</td>\n",
              "    </tr>\n",
              "    <tr>\n",
              "      <th>1</th>\n",
              "      <td>608</td>\n",
              "      <td>0</td>\n",
              "      <td>41</td>\n",
              "      <td>1</td>\n",
              "      <td>83807.86</td>\n",
              "      <td>0</td>\n",
              "      <td>1</td>\n",
              "      <td>112542.58</td>\n",
              "      <td>0</td>\n",
              "      <td>1</td>\n",
              "      <td>0</td>\n",
              "      <td>0</td>\n",
              "      <td>0</td>\n",
              "    </tr>\n",
              "    <tr>\n",
              "      <th>2</th>\n",
              "      <td>502</td>\n",
              "      <td>0</td>\n",
              "      <td>42</td>\n",
              "      <td>8</td>\n",
              "      <td>159660.80</td>\n",
              "      <td>1</td>\n",
              "      <td>0</td>\n",
              "      <td>113931.57</td>\n",
              "      <td>0</td>\n",
              "      <td>0</td>\n",
              "      <td>0</td>\n",
              "      <td>1</td>\n",
              "      <td>0</td>\n",
              "    </tr>\n",
              "    <tr>\n",
              "      <th>3</th>\n",
              "      <td>699</td>\n",
              "      <td>0</td>\n",
              "      <td>39</td>\n",
              "      <td>1</td>\n",
              "      <td>0.00</td>\n",
              "      <td>0</td>\n",
              "      <td>0</td>\n",
              "      <td>93826.63</td>\n",
              "      <td>0</td>\n",
              "      <td>0</td>\n",
              "      <td>1</td>\n",
              "      <td>0</td>\n",
              "      <td>0</td>\n",
              "    </tr>\n",
              "    <tr>\n",
              "      <th>4</th>\n",
              "      <td>850</td>\n",
              "      <td>0</td>\n",
              "      <td>43</td>\n",
              "      <td>2</td>\n",
              "      <td>125510.82</td>\n",
              "      <td>1</td>\n",
              "      <td>1</td>\n",
              "      <td>79084.10</td>\n",
              "      <td>0</td>\n",
              "      <td>1</td>\n",
              "      <td>0</td>\n",
              "      <td>0</td>\n",
              "      <td>0</td>\n",
              "    </tr>\n",
              "  </tbody>\n",
              "</table>\n",
              "</div>"
            ],
            "text/plain": [
              "   CreditScore  Gender  Age  ...  NumOfProducts_2  NumOfProducts_3  NumOfProducts_4\n",
              "0          619       0   42  ...                0                0                0\n",
              "1          608       0   41  ...                0                0                0\n",
              "2          502       0   42  ...                0                1                0\n",
              "3          699       0   39  ...                1                0                0\n",
              "4          850       0   43  ...                0                0                0\n",
              "\n",
              "[5 rows x 13 columns]"
            ]
          },
          "metadata": {},
          "execution_count": 16
        }
      ]
    },
    {
      "cell_type": "code",
      "metadata": {
        "colab": {
          "base_uri": "https://localhost:8080/",
          "height": 359
        },
        "id": "B0FjilmC32xN",
        "outputId": "862c165d-f9d5-405e-8f05-7d1378f6d681"
      },
      "source": [
        "#Transormano a varável sexo em 0 e 1.\n",
        "from sklearn.preprocessing import LabelEncoder\n",
        "le = LabelEncoder()\n",
        "X['Gender'] = le.fit_transform(X['Gender'])\n",
        "X.head(10)"
      ],
      "execution_count": 20,
      "outputs": [
        {
          "output_type": "execute_result",
          "data": {
            "text/html": [
              "<div>\n",
              "<style scoped>\n",
              "    .dataframe tbody tr th:only-of-type {\n",
              "        vertical-align: middle;\n",
              "    }\n",
              "\n",
              "    .dataframe tbody tr th {\n",
              "        vertical-align: top;\n",
              "    }\n",
              "\n",
              "    .dataframe thead th {\n",
              "        text-align: right;\n",
              "    }\n",
              "</style>\n",
              "<table border=\"1\" class=\"dataframe\">\n",
              "  <thead>\n",
              "    <tr style=\"text-align: right;\">\n",
              "      <th></th>\n",
              "      <th>CreditScore</th>\n",
              "      <th>Geography</th>\n",
              "      <th>Gender</th>\n",
              "      <th>Age</th>\n",
              "      <th>Tenure</th>\n",
              "      <th>Balance</th>\n",
              "      <th>NumOfProducts</th>\n",
              "      <th>HasCrCard</th>\n",
              "      <th>IsActiveMember</th>\n",
              "      <th>EstimatedSalary</th>\n",
              "    </tr>\n",
              "  </thead>\n",
              "  <tbody>\n",
              "    <tr>\n",
              "      <th>0</th>\n",
              "      <td>619</td>\n",
              "      <td>France</td>\n",
              "      <td>0</td>\n",
              "      <td>42</td>\n",
              "      <td>2</td>\n",
              "      <td>0.00</td>\n",
              "      <td>1</td>\n",
              "      <td>1</td>\n",
              "      <td>1</td>\n",
              "      <td>101348.88</td>\n",
              "    </tr>\n",
              "    <tr>\n",
              "      <th>1</th>\n",
              "      <td>608</td>\n",
              "      <td>Spain</td>\n",
              "      <td>0</td>\n",
              "      <td>41</td>\n",
              "      <td>1</td>\n",
              "      <td>83807.86</td>\n",
              "      <td>1</td>\n",
              "      <td>0</td>\n",
              "      <td>1</td>\n",
              "      <td>112542.58</td>\n",
              "    </tr>\n",
              "    <tr>\n",
              "      <th>2</th>\n",
              "      <td>502</td>\n",
              "      <td>France</td>\n",
              "      <td>0</td>\n",
              "      <td>42</td>\n",
              "      <td>8</td>\n",
              "      <td>159660.80</td>\n",
              "      <td>3</td>\n",
              "      <td>1</td>\n",
              "      <td>0</td>\n",
              "      <td>113931.57</td>\n",
              "    </tr>\n",
              "    <tr>\n",
              "      <th>3</th>\n",
              "      <td>699</td>\n",
              "      <td>France</td>\n",
              "      <td>0</td>\n",
              "      <td>39</td>\n",
              "      <td>1</td>\n",
              "      <td>0.00</td>\n",
              "      <td>2</td>\n",
              "      <td>0</td>\n",
              "      <td>0</td>\n",
              "      <td>93826.63</td>\n",
              "    </tr>\n",
              "    <tr>\n",
              "      <th>4</th>\n",
              "      <td>850</td>\n",
              "      <td>Spain</td>\n",
              "      <td>0</td>\n",
              "      <td>43</td>\n",
              "      <td>2</td>\n",
              "      <td>125510.82</td>\n",
              "      <td>1</td>\n",
              "      <td>1</td>\n",
              "      <td>1</td>\n",
              "      <td>79084.10</td>\n",
              "    </tr>\n",
              "    <tr>\n",
              "      <th>5</th>\n",
              "      <td>645</td>\n",
              "      <td>Spain</td>\n",
              "      <td>1</td>\n",
              "      <td>44</td>\n",
              "      <td>8</td>\n",
              "      <td>113755.78</td>\n",
              "      <td>2</td>\n",
              "      <td>1</td>\n",
              "      <td>0</td>\n",
              "      <td>149756.71</td>\n",
              "    </tr>\n",
              "    <tr>\n",
              "      <th>6</th>\n",
              "      <td>822</td>\n",
              "      <td>France</td>\n",
              "      <td>1</td>\n",
              "      <td>50</td>\n",
              "      <td>7</td>\n",
              "      <td>0.00</td>\n",
              "      <td>2</td>\n",
              "      <td>1</td>\n",
              "      <td>1</td>\n",
              "      <td>10062.80</td>\n",
              "    </tr>\n",
              "    <tr>\n",
              "      <th>7</th>\n",
              "      <td>376</td>\n",
              "      <td>Germany</td>\n",
              "      <td>0</td>\n",
              "      <td>29</td>\n",
              "      <td>4</td>\n",
              "      <td>115046.74</td>\n",
              "      <td>4</td>\n",
              "      <td>1</td>\n",
              "      <td>0</td>\n",
              "      <td>119346.88</td>\n",
              "    </tr>\n",
              "    <tr>\n",
              "      <th>8</th>\n",
              "      <td>501</td>\n",
              "      <td>France</td>\n",
              "      <td>1</td>\n",
              "      <td>44</td>\n",
              "      <td>4</td>\n",
              "      <td>142051.07</td>\n",
              "      <td>2</td>\n",
              "      <td>0</td>\n",
              "      <td>1</td>\n",
              "      <td>74940.50</td>\n",
              "    </tr>\n",
              "    <tr>\n",
              "      <th>9</th>\n",
              "      <td>684</td>\n",
              "      <td>France</td>\n",
              "      <td>1</td>\n",
              "      <td>27</td>\n",
              "      <td>2</td>\n",
              "      <td>134603.88</td>\n",
              "      <td>1</td>\n",
              "      <td>1</td>\n",
              "      <td>1</td>\n",
              "      <td>71725.73</td>\n",
              "    </tr>\n",
              "  </tbody>\n",
              "</table>\n",
              "</div>"
            ],
            "text/plain": [
              "   CreditScore Geography  Gender  ...  HasCrCard  IsActiveMember  EstimatedSalary\n",
              "0          619    France       0  ...          1               1        101348.88\n",
              "1          608     Spain       0  ...          0               1        112542.58\n",
              "2          502    France       0  ...          1               0        113931.57\n",
              "3          699    France       0  ...          0               0         93826.63\n",
              "4          850     Spain       0  ...          1               1         79084.10\n",
              "5          645     Spain       1  ...          1               0        149756.71\n",
              "6          822    France       1  ...          1               1         10062.80\n",
              "7          376   Germany       0  ...          1               0        119346.88\n",
              "8          501    France       1  ...          0               1         74940.50\n",
              "9          684    France       1  ...          1               1         71725.73\n",
              "\n",
              "[10 rows x 10 columns]"
            ]
          },
          "metadata": {},
          "execution_count": 20
        }
      ]
    },
    {
      "cell_type": "code",
      "metadata": {
        "id": "1NLgkzEj6kbP"
      },
      "source": [
        "#Aplicando métido get dummy varávies com mais de 2 classes.\n",
        "#df1 = pd.get_dummies(data = X, columns=['Geography','NumOfProducts'])\n",
        "#df1.head()"
      ],
      "execution_count": null,
      "outputs": []
    },
    {
      "cell_type": "markdown",
      "metadata": {
        "id": "HOtQcFCMVPB6"
      },
      "source": [
        "###Variáveis Numéricas\n",
        " - Como algumas varáveis estão em diferentes escalas, devemos fazer a  padronização para deixar os valores na mesma escala.\n",
        " "
      ]
    },
    {
      "cell_type": "markdown",
      "metadata": {
        "id": "nRei4VdgY00B"
      },
      "source": [
        "###Separando a base de dados em teste e treino"
      ]
    },
    {
      "cell_type": "code",
      "metadata": {
        "id": "KlLT3prmY43E"
      },
      "source": [
        "from sklearn.model_selection import train_test_split\n",
        "\n",
        "X_treinamento, X_teste, y_treinamento, y_teste = train_test_split(X_final, y, test_size = 0.25, random_state = 1) #x_final é o conjunto convertido para numérico"
      ],
      "execution_count": 21,
      "outputs": []
    },
    {
      "cell_type": "markdown",
      "metadata": {
        "id": "38YNH1TyczkB"
      },
      "source": [
        "####Aplicando padronizção z-score\n",
        " - técnica usada para colocar os valores na mesma escala, de modo que a média tenha o valor 0 e o desvio padrao o valor 1."
      ]
    },
    {
      "cell_type": "code",
      "metadata": {
        "id": "aJS2v7rRY9ji"
      },
      "source": [
        "from sklearn.preprocessing import StandardScaler\n",
        "\n",
        "z_score_treinamento = StandardScaler()\n",
        "z_score_teste = StandardScaler()\n",
        "\n"
      ],
      "execution_count": 37,
      "outputs": []
    },
    {
      "cell_type": "code",
      "metadata": {
        "id": "NJiVHiOdfBkY"
      },
      "source": [
        "X_treinamento_padrao = z_score_treinamento.fit_transform(X_treinamento)\n",
        "X_teste_padrao = z_score_teste.fit_transform(X_teste)"
      ],
      "execution_count": 23,
      "outputs": []
    },
    {
      "cell_type": "code",
      "metadata": {
        "id": "7ciQ1ODrfMvP",
        "colab": {
          "base_uri": "https://localhost:8080/"
        },
        "outputId": "9128d9a7-a8b5-4f04-95e2-9c6dbc81e431"
      },
      "source": [
        "X_treinamento_padrao, X_teste_padrao"
      ],
      "execution_count": 24,
      "outputs": [
        {
          "output_type": "execute_result",
          "data": {
            "text/plain": [
              "(array([[ 0.71997988,  0.91776859,  1.25618088, ..., -0.92048392,\n",
              "         -0.16763484, -0.07941149],\n",
              "        [-0.75327193, -1.08959928, -0.65952721, ...,  1.08638509,\n",
              "         -0.16763484, -0.07941149],\n",
              "        [ 0.57574543, -1.08959928,  0.39411224, ...,  1.08638509,\n",
              "         -0.16763484, -0.07941149],\n",
              "        ...,\n",
              "        [ 0.22546179, -1.08959928,  0.58568305, ..., -0.92048392,\n",
              "         -0.16763484, -0.07941149],\n",
              "        [ 0.13273964, -1.08959928,  0.01097062, ...,  1.08638509,\n",
              "         -0.16763484, -0.07941149],\n",
              "        [ 1.16298567,  0.91776859,  0.29832684, ..., -0.92048392,\n",
              "         -0.16763484, -0.07941149]]),\n",
              " array([[-1.06697781,  0.89652206,  0.74989348, ...,  1.08347268,\n",
              "         -0.15814629, -0.07229925],\n",
              "        [ 0.29599597,  0.89652206, -0.47339308, ..., -0.92295821,\n",
              "         -0.15814629, -0.07229925],\n",
              "        [-1.26618167, -1.11542152,  0.27939865, ...,  1.08347268,\n",
              "         -0.15814629, -0.07229925],\n",
              "        ...,\n",
              "        [ 0.09679211,  0.89652206,  0.74989348, ..., -0.92295821,\n",
              "         -0.15814629, -0.07229925],\n",
              "        [-0.18628706,  0.89652206,  0.37349762, ..., -0.92295821,\n",
              "         -0.15814629, -0.07229925],\n",
              "        [-1.49683877,  0.89652206,  0.18529969, ..., -0.92295821,\n",
              "         -0.15814629, -0.07229925]]))"
            ]
          },
          "metadata": {},
          "execution_count": 24
        }
      ]
    },
    {
      "cell_type": "code",
      "metadata": {
        "id": "76qD3CdIaN-d"
      },
      "source": [
        "X_treinamento_padrao_dataframe = pd.DataFrame(X_treinamento_padrao)\n",
        "X_teste_padrao_dataframe = pd.DataFrame(X_teste_padrao)"
      ],
      "execution_count": 265,
      "outputs": []
    },
    {
      "cell_type": "code",
      "metadata": {
        "colab": {
          "base_uri": "https://localhost:8080/",
          "height": 419
        },
        "id": "0z4JttIgaURj",
        "outputId": "90654a3f-ceff-4bbe-d8d0-045a5d05181a"
      },
      "source": [
        "X_treinamento_padrao_dataframe"
      ],
      "execution_count": 266,
      "outputs": [
        {
          "output_type": "execute_result",
          "data": {
            "text/html": [
              "<div>\n",
              "<style scoped>\n",
              "    .dataframe tbody tr th:only-of-type {\n",
              "        vertical-align: middle;\n",
              "    }\n",
              "\n",
              "    .dataframe tbody tr th {\n",
              "        vertical-align: top;\n",
              "    }\n",
              "\n",
              "    .dataframe thead th {\n",
              "        text-align: right;\n",
              "    }\n",
              "</style>\n",
              "<table border=\"1\" class=\"dataframe\">\n",
              "  <thead>\n",
              "    <tr style=\"text-align: right;\">\n",
              "      <th></th>\n",
              "      <th>0</th>\n",
              "      <th>1</th>\n",
              "      <th>2</th>\n",
              "      <th>3</th>\n",
              "      <th>4</th>\n",
              "      <th>5</th>\n",
              "      <th>6</th>\n",
              "      <th>7</th>\n",
              "      <th>8</th>\n",
              "      <th>9</th>\n",
              "      <th>10</th>\n",
              "      <th>11</th>\n",
              "      <th>12</th>\n",
              "    </tr>\n",
              "  </thead>\n",
              "  <tbody>\n",
              "    <tr>\n",
              "      <th>0</th>\n",
              "      <td>0.719980</td>\n",
              "      <td>0.917769</td>\n",
              "      <td>1.256181</td>\n",
              "      <td>0.683089</td>\n",
              "      <td>-1.228601</td>\n",
              "      <td>0.642621</td>\n",
              "      <td>0.983339</td>\n",
              "      <td>-1.480501</td>\n",
              "      <td>-0.582072</td>\n",
              "      <td>-0.573245</td>\n",
              "      <td>-0.920484</td>\n",
              "      <td>-0.167635</td>\n",
              "      <td>-0.079411</td>\n",
              "    </tr>\n",
              "    <tr>\n",
              "      <th>1</th>\n",
              "      <td>-0.753272</td>\n",
              "      <td>-1.089599</td>\n",
              "      <td>-0.659527</td>\n",
              "      <td>-1.397668</td>\n",
              "      <td>-1.228601</td>\n",
              "      <td>0.642621</td>\n",
              "      <td>-1.016944</td>\n",
              "      <td>-1.565230</td>\n",
              "      <td>-0.582072</td>\n",
              "      <td>-0.573245</td>\n",
              "      <td>1.086385</td>\n",
              "      <td>-0.167635</td>\n",
              "      <td>-0.079411</td>\n",
              "    </tr>\n",
              "    <tr>\n",
              "      <th>2</th>\n",
              "      <td>0.575745</td>\n",
              "      <td>-1.089599</td>\n",
              "      <td>0.394112</td>\n",
              "      <td>-1.397668</td>\n",
              "      <td>-1.228601</td>\n",
              "      <td>0.642621</td>\n",
              "      <td>-1.016944</td>\n",
              "      <td>-1.182108</td>\n",
              "      <td>-0.582072</td>\n",
              "      <td>1.744456</td>\n",
              "      <td>1.086385</td>\n",
              "      <td>-0.167635</td>\n",
              "      <td>-0.079411</td>\n",
              "    </tr>\n",
              "    <tr>\n",
              "      <th>3</th>\n",
              "      <td>1.791436</td>\n",
              "      <td>0.917769</td>\n",
              "      <td>0.585683</td>\n",
              "      <td>-0.704082</td>\n",
              "      <td>0.844319</td>\n",
              "      <td>-1.556128</td>\n",
              "      <td>-1.016944</td>\n",
              "      <td>-0.692551</td>\n",
              "      <td>-0.582072</td>\n",
              "      <td>-0.573245</td>\n",
              "      <td>-0.920484</td>\n",
              "      <td>-0.167635</td>\n",
              "      <td>-0.079411</td>\n",
              "    </tr>\n",
              "    <tr>\n",
              "      <th>4</th>\n",
              "      <td>-1.577469</td>\n",
              "      <td>0.917769</td>\n",
              "      <td>-0.659527</td>\n",
              "      <td>1.029882</td>\n",
              "      <td>-1.228601</td>\n",
              "      <td>0.642621</td>\n",
              "      <td>-1.016944</td>\n",
              "      <td>-0.567289</td>\n",
              "      <td>-0.582072</td>\n",
              "      <td>-0.573245</td>\n",
              "      <td>1.086385</td>\n",
              "      <td>-0.167635</td>\n",
              "      <td>-0.079411</td>\n",
              "    </tr>\n",
              "    <tr>\n",
              "      <th>...</th>\n",
              "      <td>...</td>\n",
              "      <td>...</td>\n",
              "      <td>...</td>\n",
              "      <td>...</td>\n",
              "      <td>...</td>\n",
              "      <td>...</td>\n",
              "      <td>...</td>\n",
              "      <td>...</td>\n",
              "      <td>...</td>\n",
              "      <td>...</td>\n",
              "      <td>...</td>\n",
              "      <td>...</td>\n",
              "      <td>...</td>\n",
              "    </tr>\n",
              "    <tr>\n",
              "      <th>7495</th>\n",
              "      <td>-0.299964</td>\n",
              "      <td>0.917769</td>\n",
              "      <td>0.777254</td>\n",
              "      <td>0.683089</td>\n",
              "      <td>0.493838</td>\n",
              "      <td>0.642621</td>\n",
              "      <td>0.983339</td>\n",
              "      <td>-0.577104</td>\n",
              "      <td>1.718001</td>\n",
              "      <td>-0.573245</td>\n",
              "      <td>-0.920484</td>\n",
              "      <td>-0.167635</td>\n",
              "      <td>-0.079411</td>\n",
              "    </tr>\n",
              "    <tr>\n",
              "      <th>7496</th>\n",
              "      <td>0.349091</td>\n",
              "      <td>-1.089599</td>\n",
              "      <td>2.309820</td>\n",
              "      <td>-0.704082</td>\n",
              "      <td>0.074833</td>\n",
              "      <td>0.642621</td>\n",
              "      <td>-1.016944</td>\n",
              "      <td>-0.527712</td>\n",
              "      <td>1.718001</td>\n",
              "      <td>-0.573245</td>\n",
              "      <td>-0.920484</td>\n",
              "      <td>-0.167635</td>\n",
              "      <td>-0.079411</td>\n",
              "    </tr>\n",
              "    <tr>\n",
              "      <th>7497</th>\n",
              "      <td>0.225462</td>\n",
              "      <td>-1.089599</td>\n",
              "      <td>0.585683</td>\n",
              "      <td>1.376675</td>\n",
              "      <td>-1.228601</td>\n",
              "      <td>0.642621</td>\n",
              "      <td>0.983339</td>\n",
              "      <td>-0.138963</td>\n",
              "      <td>-0.582072</td>\n",
              "      <td>-0.573245</td>\n",
              "      <td>-0.920484</td>\n",
              "      <td>-0.167635</td>\n",
              "      <td>-0.079411</td>\n",
              "    </tr>\n",
              "    <tr>\n",
              "      <th>7498</th>\n",
              "      <td>0.132740</td>\n",
              "      <td>-1.089599</td>\n",
              "      <td>0.010971</td>\n",
              "      <td>1.029882</td>\n",
              "      <td>-1.228601</td>\n",
              "      <td>0.642621</td>\n",
              "      <td>0.983339</td>\n",
              "      <td>0.019792</td>\n",
              "      <td>-0.582072</td>\n",
              "      <td>-0.573245</td>\n",
              "      <td>1.086385</td>\n",
              "      <td>-0.167635</td>\n",
              "      <td>-0.079411</td>\n",
              "    </tr>\n",
              "    <tr>\n",
              "      <th>7499</th>\n",
              "      <td>1.162986</td>\n",
              "      <td>0.917769</td>\n",
              "      <td>0.298327</td>\n",
              "      <td>0.336297</td>\n",
              "      <td>0.378287</td>\n",
              "      <td>0.642621</td>\n",
              "      <td>-1.016944</td>\n",
              "      <td>-1.156055</td>\n",
              "      <td>1.718001</td>\n",
              "      <td>-0.573245</td>\n",
              "      <td>-0.920484</td>\n",
              "      <td>-0.167635</td>\n",
              "      <td>-0.079411</td>\n",
              "    </tr>\n",
              "  </tbody>\n",
              "</table>\n",
              "<p>7500 rows × 13 columns</p>\n",
              "</div>"
            ],
            "text/plain": [
              "            0         1         2   ...        10        11        12\n",
              "0     0.719980  0.917769  1.256181  ... -0.920484 -0.167635 -0.079411\n",
              "1    -0.753272 -1.089599 -0.659527  ...  1.086385 -0.167635 -0.079411\n",
              "2     0.575745 -1.089599  0.394112  ...  1.086385 -0.167635 -0.079411\n",
              "3     1.791436  0.917769  0.585683  ... -0.920484 -0.167635 -0.079411\n",
              "4    -1.577469  0.917769 -0.659527  ...  1.086385 -0.167635 -0.079411\n",
              "...        ...       ...       ...  ...       ...       ...       ...\n",
              "7495 -0.299964  0.917769  0.777254  ... -0.920484 -0.167635 -0.079411\n",
              "7496  0.349091 -1.089599  2.309820  ... -0.920484 -0.167635 -0.079411\n",
              "7497  0.225462 -1.089599  0.585683  ... -0.920484 -0.167635 -0.079411\n",
              "7498  0.132740 -1.089599  0.010971  ...  1.086385 -0.167635 -0.079411\n",
              "7499  1.162986  0.917769  0.298327  ... -0.920484 -0.167635 -0.079411\n",
              "\n",
              "[7500 rows x 13 columns]"
            ]
          },
          "metadata": {},
          "execution_count": 266
        }
      ]
    },
    {
      "cell_type": "markdown",
      "metadata": {
        "id": "t3bw_A0zOe77"
      },
      "source": [
        "##Random Forest"
      ]
    },
    {
      "cell_type": "code",
      "metadata": {
        "id": "BXKH9vYHOydr"
      },
      "source": [
        "#Criando uma isntancia com 1000 árvores de decisão e treinando o modelo nos dados de treinamento\n",
        "modelo = RandomForestClassifier (n_estimators = 1000, random_state = 42) \n",
        "modelo.fit (X_treinamento_padrao, y_treinamento);"
      ],
      "execution_count": 161,
      "outputs": []
    },
    {
      "cell_type": "code",
      "metadata": {
        "colab": {
          "base_uri": "https://localhost:8080/"
        },
        "id": "FV22qNFUQPwO",
        "outputId": "08205222-b91e-4ea6-fa9a-a1cc864436e8"
      },
      "source": [
        "#Previsão\n",
        "previsoes = modelo.predict(X_teste_padrao)\n",
        "print(previsoes)\n",
        "print(y_teste)"
      ],
      "execution_count": 162,
      "outputs": [
        {
          "output_type": "stream",
          "name": "stdout",
          "text": [
            "[0 0 0 ... 0 0 0]\n",
            "9953    0\n",
            "3850    0\n",
            "4962    0\n",
            "3886    0\n",
            "5437    0\n",
            "       ..\n",
            "6955    0\n",
            "557     1\n",
            "2455    1\n",
            "3920    0\n",
            "6405    0\n",
            "Name: Exited, Length: 2500, dtype: int64\n"
          ]
        }
      ]
    },
    {
      "cell_type": "code",
      "metadata": {
        "colab": {
          "base_uri": "https://localhost:8080/"
        },
        "id": "PmVSKHhRYFZd",
        "outputId": "e8d99738-51ba-42a1-ab42-e7d776f2291a"
      },
      "source": [
        "#Acurácia\n",
        "from sklearn.metrics import accuracy_score\n",
        "previsoes = modelo.predict(X_teste_padrao) \n",
        "accuracy_score(previsoes, y_teste)"
      ],
      "execution_count": 163,
      "outputs": [
        {
          "output_type": "execute_result",
          "data": {
            "text/plain": [
              "0.8672"
            ]
          },
          "metadata": {},
          "execution_count": 163
        }
      ]
    },
    {
      "cell_type": "markdown",
      "metadata": {
        "id": "7gv7oP76kuJL"
      },
      "source": [
        "- Observamos que a acurácia é de aproximadamente 87% de assertividade nas previsões."
      ]
    },
    {
      "cell_type": "code",
      "metadata": {
        "colab": {
          "base_uri": "https://localhost:8080/"
        },
        "id": "UkQFwiz-YOm6",
        "outputId": "3ba90efa-1f1c-44f9-befe-996c777326c4"
      },
      "source": [
        "from sklearn.metrics import classification_report\n",
        "previsoes = modelo.predict(X_teste_padrao) \n",
        "print(classification_report(previsoes, y_teste))\n"
      ],
      "execution_count": 164,
      "outputs": [
        {
          "output_type": "stream",
          "name": "stdout",
          "text": [
            "              precision    recall  f1-score   support\n",
            "\n",
            "           0       0.97      0.88      0.92      2186\n",
            "           1       0.48      0.80      0.60       314\n",
            "\n",
            "    accuracy                           0.87      2500\n",
            "   macro avg       0.73      0.84      0.76      2500\n",
            "weighted avg       0.91      0.87      0.88      2500\n",
            "\n"
          ]
        }
      ]
    },
    {
      "cell_type": "code",
      "metadata": {
        "colab": {
          "base_uri": "https://localhost:8080/",
          "height": 452
        },
        "id": "sQf08WtoqOkn",
        "outputId": "37d9eb79-237d-4959-9779-11a56ee4e369"
      },
      "source": [
        "#Analisando a importância de cada variável\n",
        "modelo.feature_importances_\n",
        "\n",
        "feature_importances = pd.DataFrame(modelo.feature_importances_, index = X_treinamento.columns , columns=['importance']).sort_values('importance',ascending=False)\n",
        "feature_importances"
      ],
      "execution_count": 165,
      "outputs": [
        {
          "output_type": "execute_result",
          "data": {
            "text/html": [
              "<div>\n",
              "<style scoped>\n",
              "    .dataframe tbody tr th:only-of-type {\n",
              "        vertical-align: middle;\n",
              "    }\n",
              "\n",
              "    .dataframe tbody tr th {\n",
              "        vertical-align: top;\n",
              "    }\n",
              "\n",
              "    .dataframe thead th {\n",
              "        text-align: right;\n",
              "    }\n",
              "</style>\n",
              "<table border=\"1\" class=\"dataframe\">\n",
              "  <thead>\n",
              "    <tr style=\"text-align: right;\">\n",
              "      <th></th>\n",
              "      <th>importance</th>\n",
              "    </tr>\n",
              "  </thead>\n",
              "  <tbody>\n",
              "    <tr>\n",
              "      <th>Age</th>\n",
              "      <td>0.232038</td>\n",
              "    </tr>\n",
              "    <tr>\n",
              "      <th>EstimatedSalary</th>\n",
              "      <td>0.146217</td>\n",
              "    </tr>\n",
              "    <tr>\n",
              "      <th>CreditScore</th>\n",
              "      <td>0.143458</td>\n",
              "    </tr>\n",
              "    <tr>\n",
              "      <th>Balance</th>\n",
              "      <td>0.142694</td>\n",
              "    </tr>\n",
              "    <tr>\n",
              "      <th>Tenure</th>\n",
              "      <td>0.084539</td>\n",
              "    </tr>\n",
              "    <tr>\n",
              "      <th>NumOfProducts_2</th>\n",
              "      <td>0.067757</td>\n",
              "    </tr>\n",
              "    <tr>\n",
              "      <th>NumOfProducts_3</th>\n",
              "      <td>0.045093</td>\n",
              "    </tr>\n",
              "    <tr>\n",
              "      <th>IsActiveMember</th>\n",
              "      <td>0.041292</td>\n",
              "    </tr>\n",
              "    <tr>\n",
              "      <th>Geography_Germany</th>\n",
              "      <td>0.028357</td>\n",
              "    </tr>\n",
              "    <tr>\n",
              "      <th>Gender</th>\n",
              "      <td>0.020241</td>\n",
              "    </tr>\n",
              "    <tr>\n",
              "      <th>HasCrCard</th>\n",
              "      <td>0.018609</td>\n",
              "    </tr>\n",
              "    <tr>\n",
              "      <th>NumOfProducts_4</th>\n",
              "      <td>0.015752</td>\n",
              "    </tr>\n",
              "    <tr>\n",
              "      <th>Geography_Spain</th>\n",
              "      <td>0.013953</td>\n",
              "    </tr>\n",
              "  </tbody>\n",
              "</table>\n",
              "</div>"
            ],
            "text/plain": [
              "                   importance\n",
              "Age                  0.232038\n",
              "EstimatedSalary      0.146217\n",
              "CreditScore          0.143458\n",
              "Balance              0.142694\n",
              "Tenure               0.084539\n",
              "NumOfProducts_2      0.067757\n",
              "NumOfProducts_3      0.045093\n",
              "IsActiveMember       0.041292\n",
              "Geography_Germany    0.028357\n",
              "Gender               0.020241\n",
              "HasCrCard            0.018609\n",
              "NumOfProducts_4      0.015752\n",
              "Geography_Spain      0.013953"
            ]
          },
          "metadata": {},
          "execution_count": 165
        }
      ]
    },
    {
      "cell_type": "markdown",
      "metadata": {
        "id": "jqWhXGvXA3fL"
      },
      "source": [
        "###Sobreamostragem (Oversamplig)\n",
        " - Verificar se conseguimos melhorar a acurácia através dessa técnica, que consite"
      ]
    },
    {
      "cell_type": "code",
      "metadata": {
        "id": "NCWSVFMfy_zL"
      },
      "source": [
        "from imblearn.over_sampling import SMOTE\n"
      ],
      "execution_count": 127,
      "outputs": []
    },
    {
      "cell_type": "code",
      "metadata": {
        "id": "jDdtncOT4i-d"
      },
      "source": [
        "#Treinando o modelo nos dados de treinamento\n",
        "smote = SMOTE(sampling_strategy=str('minority') )\n",
        "X_over, y_over = smote.fit_sample(X_treinamento_padrao,y_treinamento)"
      ],
      "execution_count": 192,
      "outputs": []
    },
    {
      "cell_type": "code",
      "metadata": {
        "colab": {
          "base_uri": "https://localhost:8080/"
        },
        "id": "FQ_rssoB2D17",
        "outputId": "0845d16a-3d5e-41fa-bcb2-085f7548283f"
      },
      "source": [
        "#verificando que a classe minoritaria foi balenceada e esta com 5983 registros.\n",
        "np.unique(y_over, return_counts=True)"
      ],
      "execution_count": 193,
      "outputs": [
        {
          "output_type": "execute_result",
          "data": {
            "text/plain": [
              "(array([0, 1]), array([5983, 5983]))"
            ]
          },
          "metadata": {},
          "execution_count": 193
        }
      ]
    },
    {
      "cell_type": "code",
      "metadata": {
        "id": "xnVpAVfz5xgC"
      },
      "source": [
        "#Dividindo a base de dados em treinamento e teste, e estamos fazendo uma amostragem estratificada da base de dados de teste.\n",
        "X_treinamento_over, X_teste_over, y_treinamento_over, y_teste_over = train_test_split(X_over,y_over,\n",
        "                                                                                          test_size=0.25, stratify = y_over)\n"
      ],
      "execution_count": 194,
      "outputs": []
    },
    {
      "cell_type": "code",
      "metadata": {
        "colab": {
          "base_uri": "https://localhost:8080/"
        },
        "id": "7L9T5gQ49ETE",
        "outputId": "71b4dab8-233c-4529-8124-fe5419adb4bf"
      },
      "source": [
        "modelo_over = RandomForestClassifier(n_estimators = 1000, random_state = 42)\n",
        "modelo_over.fit(X_treinamento_padrao, y_treinamento)"
      ],
      "execution_count": 195,
      "outputs": [
        {
          "output_type": "execute_result",
          "data": {
            "text/plain": [
              "RandomForestClassifier(n_estimators=1000, random_state=42)"
            ]
          },
          "metadata": {},
          "execution_count": 195
        }
      ]
    },
    {
      "cell_type": "code",
      "metadata": {
        "id": "AVnMR2P__HvI"
      },
      "source": [
        "previsoes_over = modelo_over.predict(X_teste_over)\n"
      ],
      "execution_count": 196,
      "outputs": []
    },
    {
      "cell_type": "code",
      "metadata": {
        "colab": {
          "base_uri": "https://localhost:8080/"
        },
        "id": "G9vrlz4U_XrU",
        "outputId": "5a1d9632-ee55-4739-e0de-9f5a1c0f92a7"
      },
      "source": [
        "accuracy_score(previsoes_over,y_teste_over)"
      ],
      "execution_count": 197,
      "outputs": [
        {
          "output_type": "execute_result",
          "data": {
            "text/plain": [
              "0.8890374331550802"
            ]
          },
          "metadata": {},
          "execution_count": 197
        }
      ]
    },
    {
      "cell_type": "markdown",
      "metadata": {
        "id": "eiq-oZ36Exg_"
      },
      "source": [
        "- Com a técnica de oversampling tivemos uma acuracia um pouco melhor da anterior, co aproximadamente 89% de assertividade."
      ]
    },
    {
      "cell_type": "code",
      "metadata": {
        "id": "ISVNM9fDFPES"
      },
      "source": [
        "from imblearn.under_sampling import TomekLinks"
      ],
      "execution_count": 219,
      "outputs": []
    },
    {
      "cell_type": "code",
      "metadata": {
        "id": "vuWXsuv1Lwn1"
      },
      "source": [
        "tl = TomekLinks(sampling_strategy=str('majority'))\n",
        "X_under, y_under = tl.fit_sample(X_treinamento_padrao,y_treinamento)"
      ],
      "execution_count": 220,
      "outputs": []
    },
    {
      "cell_type": "code",
      "metadata": {
        "colab": {
          "base_uri": "https://localhost:8080/"
        },
        "id": "2YJgc4j7OB_G",
        "outputId": "3b73f067-c040-45d0-dfdd-b41f8ff2d972"
      },
      "source": [
        "np.unique(y, return_counts=True)"
      ],
      "execution_count": 221,
      "outputs": [
        {
          "output_type": "execute_result",
          "data": {
            "text/plain": [
              "(array([0, 1]), array([7963, 2037]))"
            ]
          },
          "metadata": {},
          "execution_count": 221
        }
      ]
    },
    {
      "cell_type": "code",
      "metadata": {
        "colab": {
          "base_uri": "https://localhost:8080/"
        },
        "id": "GI74S8EwMYBS",
        "outputId": "fb8c613b-0e7a-473c-c805-da3e38315617"
      },
      "source": [
        "#Exibimos essa contagem para mostrar quue hou uma diminuição da classe majoritaria em relacao a classe da base original\n",
        "np.unique(y_under, return_counts=True)"
      ],
      "execution_count": 222,
      "outputs": [
        {
          "output_type": "execute_result",
          "data": {
            "text/plain": [
              "(array([0, 1]), array([5600, 1517]))"
            ]
          },
          "metadata": {},
          "execution_count": 222
        }
      ]
    },
    {
      "cell_type": "code",
      "metadata": {
        "id": "sYD-CY7YM-65"
      },
      "source": [
        "#Separando a base de treino e teste\n",
        "X_treinamento_under, X_teste_under, y_treinamento_under, y_teste_under = train_test_split(X_under,y_under,\n",
        "                                                                                          test_size=0.25, stratify = y_under)"
      ],
      "execution_count": 223,
      "outputs": []
    },
    {
      "cell_type": "code",
      "metadata": {
        "colab": {
          "base_uri": "https://localhost:8080/"
        },
        "id": "80oK_EzwOgRM",
        "outputId": "13be62fa-4861-4ce5-b5e2-aeb8a7d716ce"
      },
      "source": [
        "modelo_under = RandomForestClassifier(n_estimators = 1000, random_state = 42)\n",
        "modelo_under.fit(X_treinamento_padrao, y_treinamento)\n"
      ],
      "execution_count": 224,
      "outputs": [
        {
          "output_type": "execute_result",
          "data": {
            "text/plain": [
              "RandomForestClassifier(n_estimators=1000, random_state=42)"
            ]
          },
          "metadata": {},
          "execution_count": 224
        }
      ]
    },
    {
      "cell_type": "code",
      "metadata": {
        "id": "JsD3UfnrPNj7"
      },
      "source": [
        "previsoes_under = modelo_over.predict(X_teste_under)\n"
      ],
      "execution_count": 225,
      "outputs": []
    },
    {
      "cell_type": "code",
      "metadata": {
        "colab": {
          "base_uri": "https://localhost:8080/"
        },
        "id": "AtWP85w-PZtc",
        "outputId": "bce4cbfb-819c-48d7-ddb0-4bc871633042"
      },
      "source": [
        "accuracy_score(previsoes_under, y_teste_under)"
      ],
      "execution_count": 226,
      "outputs": [
        {
          "output_type": "execute_result",
          "data": {
            "text/plain": [
              "1.0"
            ]
          },
          "metadata": {},
          "execution_count": 226
        }
      ]
    },
    {
      "cell_type": "markdown",
      "metadata": {
        "id": "PjdvPdrcPuyi"
      },
      "source": [
        "- A acurácia utilizando a técnica de undersampling apresenta uma taxa de 100% de acertividade nas previsões.\n",
        "- Esse modelo mostra uma melhor precisão para predizer se o cliente irá ou não cancelar o serviço."
      ]
    },
    {
      "cell_type": "markdown",
      "metadata": {
        "id": "X9uQBCPRSaS6"
      },
      "source": [
        "###Comparando os dois modelos de classificação Under e Over"
      ]
    },
    {
      "cell_type": "code",
      "metadata": {
        "colab": {
          "base_uri": "https://localhost:8080/"
        },
        "id": "W7PA3cpWR2uv",
        "outputId": "3b076819-8cae-4a0f-ad1f-bce51bec62c1"
      },
      "source": [
        "print(classification_report(previsoes_under, y_teste_under))\n"
      ],
      "execution_count": 227,
      "outputs": [
        {
          "output_type": "stream",
          "name": "stdout",
          "text": [
            "              precision    recall  f1-score   support\n",
            "\n",
            "           0       1.00      1.00      1.00      1401\n",
            "           1       1.00      1.00      1.00       379\n",
            "\n",
            "    accuracy                           1.00      1780\n",
            "   macro avg       1.00      1.00      1.00      1780\n",
            "weighted avg       1.00      1.00      1.00      1780\n",
            "\n"
          ]
        }
      ]
    },
    {
      "cell_type": "code",
      "metadata": {
        "colab": {
          "base_uri": "https://localhost:8080/"
        },
        "id": "_CzOlFlPQBoy",
        "outputId": "6aeb8329-810f-481f-85ac-a08f641e07a9"
      },
      "source": [
        "print(classification_report(previsoes_over, y_teste_over))\n"
      ],
      "execution_count": 228,
      "outputs": [
        {
          "output_type": "stream",
          "name": "stdout",
          "text": [
            "              precision    recall  f1-score   support\n",
            "\n",
            "           0       1.00      0.82      0.90      1828\n",
            "           1       0.78      1.00      0.88      1164\n",
            "\n",
            "    accuracy                           0.89      2992\n",
            "   macro avg       0.89      0.91      0.89      2992\n",
            "weighted avg       0.91      0.89      0.89      2992\n",
            "\n"
          ]
        }
      ]
    },
    {
      "cell_type": "code",
      "metadata": {
        "id": "K0FPyz85eYii"
      },
      "source": [
        ""
      ],
      "execution_count": null,
      "outputs": []
    }
  ]
}